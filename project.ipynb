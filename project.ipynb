{
  "nbformat": 4,
  "nbformat_minor": 0,
  "metadata": {
    "colab": {
      "provenance": [],
      "collapsed_sections": [
        "dp1nLBoER6k1",
        "dxuDIV3XClZx",
        "ub8KCLIbIrRG"
      ]
    },
    "kernelspec": {
      "name": "python3",
      "display_name": "Python 3"
    },
    "language_info": {
      "name": "python"
    },
    "accelerator": "GPU",
    "gpuClass": "standard",
    "widgets": {
      "application/vnd.jupyter.widget-state+json": {
        "64049ff683d343af858b14bd0fba58b6": {
          "model_module": "@jupyter-widgets/controls",
          "model_name": "HBoxModel",
          "model_module_version": "1.5.0",
          "state": {
            "_dom_classes": [],
            "_model_module": "@jupyter-widgets/controls",
            "_model_module_version": "1.5.0",
            "_model_name": "HBoxModel",
            "_view_count": null,
            "_view_module": "@jupyter-widgets/controls",
            "_view_module_version": "1.5.0",
            "_view_name": "HBoxView",
            "box_style": "",
            "children": [
              "IPY_MODEL_a46516ec2418434e889ffae9027f7cd1",
              "IPY_MODEL_bbaaf1e1fcbe4783883b86b37e351c9e",
              "IPY_MODEL_7fd038f7006a4f4990cd7b48384d3122"
            ],
            "layout": "IPY_MODEL_ec7fd26729114066bba9ef6c3bdbae30"
          }
        },
        "a46516ec2418434e889ffae9027f7cd1": {
          "model_module": "@jupyter-widgets/controls",
          "model_name": "HTMLModel",
          "model_module_version": "1.5.0",
          "state": {
            "_dom_classes": [],
            "_model_module": "@jupyter-widgets/controls",
            "_model_module_version": "1.5.0",
            "_model_name": "HTMLModel",
            "_view_count": null,
            "_view_module": "@jupyter-widgets/controls",
            "_view_module_version": "1.5.0",
            "_view_name": "HTMLView",
            "description": "",
            "description_tooltip": null,
            "layout": "IPY_MODEL_6f51a253764e4fa3be8a3edff3b551ad",
            "placeholder": "​",
            "style": "IPY_MODEL_c071818fc86340aba68b91a69ebab67d",
            "value": "100%"
          }
        },
        "bbaaf1e1fcbe4783883b86b37e351c9e": {
          "model_module": "@jupyter-widgets/controls",
          "model_name": "FloatProgressModel",
          "model_module_version": "1.5.0",
          "state": {
            "_dom_classes": [],
            "_model_module": "@jupyter-widgets/controls",
            "_model_module_version": "1.5.0",
            "_model_name": "FloatProgressModel",
            "_view_count": null,
            "_view_module": "@jupyter-widgets/controls",
            "_view_module_version": "1.5.0",
            "_view_name": "ProgressView",
            "bar_style": "success",
            "description": "",
            "description_tooltip": null,
            "layout": "IPY_MODEL_c891124d5f7a47a8a6ec1fdbef293eb3",
            "max": 375,
            "min": 0,
            "orientation": "horizontal",
            "style": "IPY_MODEL_68efc5cb5abc4d8eba209d7b55e8f111",
            "value": 375
          }
        },
        "7fd038f7006a4f4990cd7b48384d3122": {
          "model_module": "@jupyter-widgets/controls",
          "model_name": "HTMLModel",
          "model_module_version": "1.5.0",
          "state": {
            "_dom_classes": [],
            "_model_module": "@jupyter-widgets/controls",
            "_model_module_version": "1.5.0",
            "_model_name": "HTMLModel",
            "_view_count": null,
            "_view_module": "@jupyter-widgets/controls",
            "_view_module_version": "1.5.0",
            "_view_name": "HTMLView",
            "description": "",
            "description_tooltip": null,
            "layout": "IPY_MODEL_14844fa387174c0289f4721d55d7c8e2",
            "placeholder": "​",
            "style": "IPY_MODEL_13599921f3244b9ca72a5a61578400d3",
            "value": " 375/375 [02:28&lt;00:00,  2.69it/s]"
          }
        },
        "ec7fd26729114066bba9ef6c3bdbae30": {
          "model_module": "@jupyter-widgets/base",
          "model_name": "LayoutModel",
          "model_module_version": "1.2.0",
          "state": {
            "_model_module": "@jupyter-widgets/base",
            "_model_module_version": "1.2.0",
            "_model_name": "LayoutModel",
            "_view_count": null,
            "_view_module": "@jupyter-widgets/base",
            "_view_module_version": "1.2.0",
            "_view_name": "LayoutView",
            "align_content": null,
            "align_items": null,
            "align_self": null,
            "border": null,
            "bottom": null,
            "display": null,
            "flex": null,
            "flex_flow": null,
            "grid_area": null,
            "grid_auto_columns": null,
            "grid_auto_flow": null,
            "grid_auto_rows": null,
            "grid_column": null,
            "grid_gap": null,
            "grid_row": null,
            "grid_template_areas": null,
            "grid_template_columns": null,
            "grid_template_rows": null,
            "height": null,
            "justify_content": null,
            "justify_items": null,
            "left": null,
            "margin": null,
            "max_height": null,
            "max_width": null,
            "min_height": null,
            "min_width": null,
            "object_fit": null,
            "object_position": null,
            "order": null,
            "overflow": null,
            "overflow_x": null,
            "overflow_y": null,
            "padding": null,
            "right": null,
            "top": null,
            "visibility": null,
            "width": null
          }
        },
        "6f51a253764e4fa3be8a3edff3b551ad": {
          "model_module": "@jupyter-widgets/base",
          "model_name": "LayoutModel",
          "model_module_version": "1.2.0",
          "state": {
            "_model_module": "@jupyter-widgets/base",
            "_model_module_version": "1.2.0",
            "_model_name": "LayoutModel",
            "_view_count": null,
            "_view_module": "@jupyter-widgets/base",
            "_view_module_version": "1.2.0",
            "_view_name": "LayoutView",
            "align_content": null,
            "align_items": null,
            "align_self": null,
            "border": null,
            "bottom": null,
            "display": null,
            "flex": null,
            "flex_flow": null,
            "grid_area": null,
            "grid_auto_columns": null,
            "grid_auto_flow": null,
            "grid_auto_rows": null,
            "grid_column": null,
            "grid_gap": null,
            "grid_row": null,
            "grid_template_areas": null,
            "grid_template_columns": null,
            "grid_template_rows": null,
            "height": null,
            "justify_content": null,
            "justify_items": null,
            "left": null,
            "margin": null,
            "max_height": null,
            "max_width": null,
            "min_height": null,
            "min_width": null,
            "object_fit": null,
            "object_position": null,
            "order": null,
            "overflow": null,
            "overflow_x": null,
            "overflow_y": null,
            "padding": null,
            "right": null,
            "top": null,
            "visibility": null,
            "width": null
          }
        },
        "c071818fc86340aba68b91a69ebab67d": {
          "model_module": "@jupyter-widgets/controls",
          "model_name": "DescriptionStyleModel",
          "model_module_version": "1.5.0",
          "state": {
            "_model_module": "@jupyter-widgets/controls",
            "_model_module_version": "1.5.0",
            "_model_name": "DescriptionStyleModel",
            "_view_count": null,
            "_view_module": "@jupyter-widgets/base",
            "_view_module_version": "1.2.0",
            "_view_name": "StyleView",
            "description_width": ""
          }
        },
        "c891124d5f7a47a8a6ec1fdbef293eb3": {
          "model_module": "@jupyter-widgets/base",
          "model_name": "LayoutModel",
          "model_module_version": "1.2.0",
          "state": {
            "_model_module": "@jupyter-widgets/base",
            "_model_module_version": "1.2.0",
            "_model_name": "LayoutModel",
            "_view_count": null,
            "_view_module": "@jupyter-widgets/base",
            "_view_module_version": "1.2.0",
            "_view_name": "LayoutView",
            "align_content": null,
            "align_items": null,
            "align_self": null,
            "border": null,
            "bottom": null,
            "display": null,
            "flex": null,
            "flex_flow": null,
            "grid_area": null,
            "grid_auto_columns": null,
            "grid_auto_flow": null,
            "grid_auto_rows": null,
            "grid_column": null,
            "grid_gap": null,
            "grid_row": null,
            "grid_template_areas": null,
            "grid_template_columns": null,
            "grid_template_rows": null,
            "height": null,
            "justify_content": null,
            "justify_items": null,
            "left": null,
            "margin": null,
            "max_height": null,
            "max_width": null,
            "min_height": null,
            "min_width": null,
            "object_fit": null,
            "object_position": null,
            "order": null,
            "overflow": null,
            "overflow_x": null,
            "overflow_y": null,
            "padding": null,
            "right": null,
            "top": null,
            "visibility": null,
            "width": null
          }
        },
        "68efc5cb5abc4d8eba209d7b55e8f111": {
          "model_module": "@jupyter-widgets/controls",
          "model_name": "ProgressStyleModel",
          "model_module_version": "1.5.0",
          "state": {
            "_model_module": "@jupyter-widgets/controls",
            "_model_module_version": "1.5.0",
            "_model_name": "ProgressStyleModel",
            "_view_count": null,
            "_view_module": "@jupyter-widgets/base",
            "_view_module_version": "1.2.0",
            "_view_name": "StyleView",
            "bar_color": null,
            "description_width": ""
          }
        },
        "14844fa387174c0289f4721d55d7c8e2": {
          "model_module": "@jupyter-widgets/base",
          "model_name": "LayoutModel",
          "model_module_version": "1.2.0",
          "state": {
            "_model_module": "@jupyter-widgets/base",
            "_model_module_version": "1.2.0",
            "_model_name": "LayoutModel",
            "_view_count": null,
            "_view_module": "@jupyter-widgets/base",
            "_view_module_version": "1.2.0",
            "_view_name": "LayoutView",
            "align_content": null,
            "align_items": null,
            "align_self": null,
            "border": null,
            "bottom": null,
            "display": null,
            "flex": null,
            "flex_flow": null,
            "grid_area": null,
            "grid_auto_columns": null,
            "grid_auto_flow": null,
            "grid_auto_rows": null,
            "grid_column": null,
            "grid_gap": null,
            "grid_row": null,
            "grid_template_areas": null,
            "grid_template_columns": null,
            "grid_template_rows": null,
            "height": null,
            "justify_content": null,
            "justify_items": null,
            "left": null,
            "margin": null,
            "max_height": null,
            "max_width": null,
            "min_height": null,
            "min_width": null,
            "object_fit": null,
            "object_position": null,
            "order": null,
            "overflow": null,
            "overflow_x": null,
            "overflow_y": null,
            "padding": null,
            "right": null,
            "top": null,
            "visibility": null,
            "width": null
          }
        },
        "13599921f3244b9ca72a5a61578400d3": {
          "model_module": "@jupyter-widgets/controls",
          "model_name": "DescriptionStyleModel",
          "model_module_version": "1.5.0",
          "state": {
            "_model_module": "@jupyter-widgets/controls",
            "_model_module_version": "1.5.0",
            "_model_name": "DescriptionStyleModel",
            "_view_count": null,
            "_view_module": "@jupyter-widgets/base",
            "_view_module_version": "1.2.0",
            "_view_name": "StyleView",
            "description_width": ""
          }
        },
        "a39b5f5c44834103b7a714f4cafe1188": {
          "model_module": "@jupyter-widgets/controls",
          "model_name": "HBoxModel",
          "model_module_version": "1.5.0",
          "state": {
            "_dom_classes": [],
            "_model_module": "@jupyter-widgets/controls",
            "_model_module_version": "1.5.0",
            "_model_name": "HBoxModel",
            "_view_count": null,
            "_view_module": "@jupyter-widgets/controls",
            "_view_module_version": "1.5.0",
            "_view_name": "HBoxView",
            "box_style": "",
            "children": [
              "IPY_MODEL_653f637f8a7a41a896ec627d7f6c1aa5",
              "IPY_MODEL_fce3f16e22354d048290e84a4465929f",
              "IPY_MODEL_210dba9b365e43fab5c45c2e05f235aa"
            ],
            "layout": "IPY_MODEL_f72465b4409d47109a53c0eb32b57db0"
          }
        },
        "653f637f8a7a41a896ec627d7f6c1aa5": {
          "model_module": "@jupyter-widgets/controls",
          "model_name": "HTMLModel",
          "model_module_version": "1.5.0",
          "state": {
            "_dom_classes": [],
            "_model_module": "@jupyter-widgets/controls",
            "_model_module_version": "1.5.0",
            "_model_name": "HTMLModel",
            "_view_count": null,
            "_view_module": "@jupyter-widgets/controls",
            "_view_module_version": "1.5.0",
            "_view_name": "HTMLView",
            "description": "",
            "description_tooltip": null,
            "layout": "IPY_MODEL_e23f340762f847d58e420c3d1e1acf41",
            "placeholder": "​",
            "style": "IPY_MODEL_1e8807118b42467cac93e2cab4dc1de4",
            "value": "100%"
          }
        },
        "fce3f16e22354d048290e84a4465929f": {
          "model_module": "@jupyter-widgets/controls",
          "model_name": "FloatProgressModel",
          "model_module_version": "1.5.0",
          "state": {
            "_dom_classes": [],
            "_model_module": "@jupyter-widgets/controls",
            "_model_module_version": "1.5.0",
            "_model_name": "FloatProgressModel",
            "_view_count": null,
            "_view_module": "@jupyter-widgets/controls",
            "_view_module_version": "1.5.0",
            "_view_name": "ProgressView",
            "bar_style": "success",
            "description": "",
            "description_tooltip": null,
            "layout": "IPY_MODEL_c7c2e09096ee4768a0fc9ce97448dac9",
            "max": 79,
            "min": 0,
            "orientation": "horizontal",
            "style": "IPY_MODEL_1bd5674e6ed449b59f88aa89e821abe1",
            "value": 79
          }
        },
        "210dba9b365e43fab5c45c2e05f235aa": {
          "model_module": "@jupyter-widgets/controls",
          "model_name": "HTMLModel",
          "model_module_version": "1.5.0",
          "state": {
            "_dom_classes": [],
            "_model_module": "@jupyter-widgets/controls",
            "_model_module_version": "1.5.0",
            "_model_name": "HTMLModel",
            "_view_count": null,
            "_view_module": "@jupyter-widgets/controls",
            "_view_module_version": "1.5.0",
            "_view_name": "HTMLView",
            "description": "",
            "description_tooltip": null,
            "layout": "IPY_MODEL_bed85ea69d6d41a698568105b6e9b2ef",
            "placeholder": "​",
            "style": "IPY_MODEL_3b38f6dc72954930a4feebd9535227a1",
            "value": " 79/79 [00:04&lt;00:00, 14.97it/s]"
          }
        },
        "f72465b4409d47109a53c0eb32b57db0": {
          "model_module": "@jupyter-widgets/base",
          "model_name": "LayoutModel",
          "model_module_version": "1.2.0",
          "state": {
            "_model_module": "@jupyter-widgets/base",
            "_model_module_version": "1.2.0",
            "_model_name": "LayoutModel",
            "_view_count": null,
            "_view_module": "@jupyter-widgets/base",
            "_view_module_version": "1.2.0",
            "_view_name": "LayoutView",
            "align_content": null,
            "align_items": null,
            "align_self": null,
            "border": null,
            "bottom": null,
            "display": null,
            "flex": null,
            "flex_flow": null,
            "grid_area": null,
            "grid_auto_columns": null,
            "grid_auto_flow": null,
            "grid_auto_rows": null,
            "grid_column": null,
            "grid_gap": null,
            "grid_row": null,
            "grid_template_areas": null,
            "grid_template_columns": null,
            "grid_template_rows": null,
            "height": null,
            "justify_content": null,
            "justify_items": null,
            "left": null,
            "margin": null,
            "max_height": null,
            "max_width": null,
            "min_height": null,
            "min_width": null,
            "object_fit": null,
            "object_position": null,
            "order": null,
            "overflow": null,
            "overflow_x": null,
            "overflow_y": null,
            "padding": null,
            "right": null,
            "top": null,
            "visibility": null,
            "width": null
          }
        },
        "e23f340762f847d58e420c3d1e1acf41": {
          "model_module": "@jupyter-widgets/base",
          "model_name": "LayoutModel",
          "model_module_version": "1.2.0",
          "state": {
            "_model_module": "@jupyter-widgets/base",
            "_model_module_version": "1.2.0",
            "_model_name": "LayoutModel",
            "_view_count": null,
            "_view_module": "@jupyter-widgets/base",
            "_view_module_version": "1.2.0",
            "_view_name": "LayoutView",
            "align_content": null,
            "align_items": null,
            "align_self": null,
            "border": null,
            "bottom": null,
            "display": null,
            "flex": null,
            "flex_flow": null,
            "grid_area": null,
            "grid_auto_columns": null,
            "grid_auto_flow": null,
            "grid_auto_rows": null,
            "grid_column": null,
            "grid_gap": null,
            "grid_row": null,
            "grid_template_areas": null,
            "grid_template_columns": null,
            "grid_template_rows": null,
            "height": null,
            "justify_content": null,
            "justify_items": null,
            "left": null,
            "margin": null,
            "max_height": null,
            "max_width": null,
            "min_height": null,
            "min_width": null,
            "object_fit": null,
            "object_position": null,
            "order": null,
            "overflow": null,
            "overflow_x": null,
            "overflow_y": null,
            "padding": null,
            "right": null,
            "top": null,
            "visibility": null,
            "width": null
          }
        },
        "1e8807118b42467cac93e2cab4dc1de4": {
          "model_module": "@jupyter-widgets/controls",
          "model_name": "DescriptionStyleModel",
          "model_module_version": "1.5.0",
          "state": {
            "_model_module": "@jupyter-widgets/controls",
            "_model_module_version": "1.5.0",
            "_model_name": "DescriptionStyleModel",
            "_view_count": null,
            "_view_module": "@jupyter-widgets/base",
            "_view_module_version": "1.2.0",
            "_view_name": "StyleView",
            "description_width": ""
          }
        },
        "c7c2e09096ee4768a0fc9ce97448dac9": {
          "model_module": "@jupyter-widgets/base",
          "model_name": "LayoutModel",
          "model_module_version": "1.2.0",
          "state": {
            "_model_module": "@jupyter-widgets/base",
            "_model_module_version": "1.2.0",
            "_model_name": "LayoutModel",
            "_view_count": null,
            "_view_module": "@jupyter-widgets/base",
            "_view_module_version": "1.2.0",
            "_view_name": "LayoutView",
            "align_content": null,
            "align_items": null,
            "align_self": null,
            "border": null,
            "bottom": null,
            "display": null,
            "flex": null,
            "flex_flow": null,
            "grid_area": null,
            "grid_auto_columns": null,
            "grid_auto_flow": null,
            "grid_auto_rows": null,
            "grid_column": null,
            "grid_gap": null,
            "grid_row": null,
            "grid_template_areas": null,
            "grid_template_columns": null,
            "grid_template_rows": null,
            "height": null,
            "justify_content": null,
            "justify_items": null,
            "left": null,
            "margin": null,
            "max_height": null,
            "max_width": null,
            "min_height": null,
            "min_width": null,
            "object_fit": null,
            "object_position": null,
            "order": null,
            "overflow": null,
            "overflow_x": null,
            "overflow_y": null,
            "padding": null,
            "right": null,
            "top": null,
            "visibility": null,
            "width": null
          }
        },
        "1bd5674e6ed449b59f88aa89e821abe1": {
          "model_module": "@jupyter-widgets/controls",
          "model_name": "ProgressStyleModel",
          "model_module_version": "1.5.0",
          "state": {
            "_model_module": "@jupyter-widgets/controls",
            "_model_module_version": "1.5.0",
            "_model_name": "ProgressStyleModel",
            "_view_count": null,
            "_view_module": "@jupyter-widgets/base",
            "_view_module_version": "1.2.0",
            "_view_name": "StyleView",
            "bar_color": null,
            "description_width": ""
          }
        },
        "bed85ea69d6d41a698568105b6e9b2ef": {
          "model_module": "@jupyter-widgets/base",
          "model_name": "LayoutModel",
          "model_module_version": "1.2.0",
          "state": {
            "_model_module": "@jupyter-widgets/base",
            "_model_module_version": "1.2.0",
            "_model_name": "LayoutModel",
            "_view_count": null,
            "_view_module": "@jupyter-widgets/base",
            "_view_module_version": "1.2.0",
            "_view_name": "LayoutView",
            "align_content": null,
            "align_items": null,
            "align_self": null,
            "border": null,
            "bottom": null,
            "display": null,
            "flex": null,
            "flex_flow": null,
            "grid_area": null,
            "grid_auto_columns": null,
            "grid_auto_flow": null,
            "grid_auto_rows": null,
            "grid_column": null,
            "grid_gap": null,
            "grid_row": null,
            "grid_template_areas": null,
            "grid_template_columns": null,
            "grid_template_rows": null,
            "height": null,
            "justify_content": null,
            "justify_items": null,
            "left": null,
            "margin": null,
            "max_height": null,
            "max_width": null,
            "min_height": null,
            "min_width": null,
            "object_fit": null,
            "object_position": null,
            "order": null,
            "overflow": null,
            "overflow_x": null,
            "overflow_y": null,
            "padding": null,
            "right": null,
            "top": null,
            "visibility": null,
            "width": null
          }
        },
        "3b38f6dc72954930a4feebd9535227a1": {
          "model_module": "@jupyter-widgets/controls",
          "model_name": "DescriptionStyleModel",
          "model_module_version": "1.5.0",
          "state": {
            "_model_module": "@jupyter-widgets/controls",
            "_model_module_version": "1.5.0",
            "_model_name": "DescriptionStyleModel",
            "_view_count": null,
            "_view_module": "@jupyter-widgets/base",
            "_view_module_version": "1.2.0",
            "_view_name": "StyleView",
            "description_width": ""
          }
        },
        "7ba2901cb7884397b011d09102f7c7b1": {
          "model_module": "@jupyter-widgets/controls",
          "model_name": "HBoxModel",
          "model_module_version": "1.5.0",
          "state": {
            "_dom_classes": [],
            "_model_module": "@jupyter-widgets/controls",
            "_model_module_version": "1.5.0",
            "_model_name": "HBoxModel",
            "_view_count": null,
            "_view_module": "@jupyter-widgets/controls",
            "_view_module_version": "1.5.0",
            "_view_name": "HBoxView",
            "box_style": "",
            "children": [
              "IPY_MODEL_eea899e33cab4fcf9d8fdfdb8e1aa258",
              "IPY_MODEL_fedf6fce01274dfea5d080da31b00d6f",
              "IPY_MODEL_062729118a27416aa27bdadae835de13"
            ],
            "layout": "IPY_MODEL_766842214c224e63a5df21604faaeee0"
          }
        },
        "eea899e33cab4fcf9d8fdfdb8e1aa258": {
          "model_module": "@jupyter-widgets/controls",
          "model_name": "HTMLModel",
          "model_module_version": "1.5.0",
          "state": {
            "_dom_classes": [],
            "_model_module": "@jupyter-widgets/controls",
            "_model_module_version": "1.5.0",
            "_model_name": "HTMLModel",
            "_view_count": null,
            "_view_module": "@jupyter-widgets/controls",
            "_view_module_version": "1.5.0",
            "_view_name": "HTMLView",
            "description": "",
            "description_tooltip": null,
            "layout": "IPY_MODEL_c0e04019f7d944adb3893c568b006bfd",
            "placeholder": "​",
            "style": "IPY_MODEL_7c026d6ace244ba4aafdd176c6c522d8",
            "value": "100%"
          }
        },
        "fedf6fce01274dfea5d080da31b00d6f": {
          "model_module": "@jupyter-widgets/controls",
          "model_name": "FloatProgressModel",
          "model_module_version": "1.5.0",
          "state": {
            "_dom_classes": [],
            "_model_module": "@jupyter-widgets/controls",
            "_model_module_version": "1.5.0",
            "_model_name": "FloatProgressModel",
            "_view_count": null,
            "_view_module": "@jupyter-widgets/controls",
            "_view_module_version": "1.5.0",
            "_view_name": "ProgressView",
            "bar_style": "success",
            "description": "",
            "description_tooltip": null,
            "layout": "IPY_MODEL_7985c3ccba634ba3b4d0321d25efbf61",
            "max": 1,
            "min": 0,
            "orientation": "horizontal",
            "style": "IPY_MODEL_223a13aa0e814892945f135e6bd7c30e",
            "value": 1
          }
        },
        "062729118a27416aa27bdadae835de13": {
          "model_module": "@jupyter-widgets/controls",
          "model_name": "HTMLModel",
          "model_module_version": "1.5.0",
          "state": {
            "_dom_classes": [],
            "_model_module": "@jupyter-widgets/controls",
            "_model_module_version": "1.5.0",
            "_model_name": "HTMLModel",
            "_view_count": null,
            "_view_module": "@jupyter-widgets/controls",
            "_view_module_version": "1.5.0",
            "_view_name": "HTMLView",
            "description": "",
            "description_tooltip": null,
            "layout": "IPY_MODEL_5eec9daa47154970a3d13ad5b0e0d5dc",
            "placeholder": "​",
            "style": "IPY_MODEL_55618a5b4a4c427e9daf9b8e83cc5b03",
            "value": " 1/1 [00:00&lt;00:00, 18.03it/s]"
          }
        },
        "766842214c224e63a5df21604faaeee0": {
          "model_module": "@jupyter-widgets/base",
          "model_name": "LayoutModel",
          "model_module_version": "1.2.0",
          "state": {
            "_model_module": "@jupyter-widgets/base",
            "_model_module_version": "1.2.0",
            "_model_name": "LayoutModel",
            "_view_count": null,
            "_view_module": "@jupyter-widgets/base",
            "_view_module_version": "1.2.0",
            "_view_name": "LayoutView",
            "align_content": null,
            "align_items": null,
            "align_self": null,
            "border": null,
            "bottom": null,
            "display": null,
            "flex": null,
            "flex_flow": null,
            "grid_area": null,
            "grid_auto_columns": null,
            "grid_auto_flow": null,
            "grid_auto_rows": null,
            "grid_column": null,
            "grid_gap": null,
            "grid_row": null,
            "grid_template_areas": null,
            "grid_template_columns": null,
            "grid_template_rows": null,
            "height": null,
            "justify_content": null,
            "justify_items": null,
            "left": null,
            "margin": null,
            "max_height": null,
            "max_width": null,
            "min_height": null,
            "min_width": null,
            "object_fit": null,
            "object_position": null,
            "order": null,
            "overflow": null,
            "overflow_x": null,
            "overflow_y": null,
            "padding": null,
            "right": null,
            "top": null,
            "visibility": null,
            "width": null
          }
        },
        "c0e04019f7d944adb3893c568b006bfd": {
          "model_module": "@jupyter-widgets/base",
          "model_name": "LayoutModel",
          "model_module_version": "1.2.0",
          "state": {
            "_model_module": "@jupyter-widgets/base",
            "_model_module_version": "1.2.0",
            "_model_name": "LayoutModel",
            "_view_count": null,
            "_view_module": "@jupyter-widgets/base",
            "_view_module_version": "1.2.0",
            "_view_name": "LayoutView",
            "align_content": null,
            "align_items": null,
            "align_self": null,
            "border": null,
            "bottom": null,
            "display": null,
            "flex": null,
            "flex_flow": null,
            "grid_area": null,
            "grid_auto_columns": null,
            "grid_auto_flow": null,
            "grid_auto_rows": null,
            "grid_column": null,
            "grid_gap": null,
            "grid_row": null,
            "grid_template_areas": null,
            "grid_template_columns": null,
            "grid_template_rows": null,
            "height": null,
            "justify_content": null,
            "justify_items": null,
            "left": null,
            "margin": null,
            "max_height": null,
            "max_width": null,
            "min_height": null,
            "min_width": null,
            "object_fit": null,
            "object_position": null,
            "order": null,
            "overflow": null,
            "overflow_x": null,
            "overflow_y": null,
            "padding": null,
            "right": null,
            "top": null,
            "visibility": null,
            "width": null
          }
        },
        "7c026d6ace244ba4aafdd176c6c522d8": {
          "model_module": "@jupyter-widgets/controls",
          "model_name": "DescriptionStyleModel",
          "model_module_version": "1.5.0",
          "state": {
            "_model_module": "@jupyter-widgets/controls",
            "_model_module_version": "1.5.0",
            "_model_name": "DescriptionStyleModel",
            "_view_count": null,
            "_view_module": "@jupyter-widgets/base",
            "_view_module_version": "1.2.0",
            "_view_name": "StyleView",
            "description_width": ""
          }
        },
        "7985c3ccba634ba3b4d0321d25efbf61": {
          "model_module": "@jupyter-widgets/base",
          "model_name": "LayoutModel",
          "model_module_version": "1.2.0",
          "state": {
            "_model_module": "@jupyter-widgets/base",
            "_model_module_version": "1.2.0",
            "_model_name": "LayoutModel",
            "_view_count": null,
            "_view_module": "@jupyter-widgets/base",
            "_view_module_version": "1.2.0",
            "_view_name": "LayoutView",
            "align_content": null,
            "align_items": null,
            "align_self": null,
            "border": null,
            "bottom": null,
            "display": null,
            "flex": null,
            "flex_flow": null,
            "grid_area": null,
            "grid_auto_columns": null,
            "grid_auto_flow": null,
            "grid_auto_rows": null,
            "grid_column": null,
            "grid_gap": null,
            "grid_row": null,
            "grid_template_areas": null,
            "grid_template_columns": null,
            "grid_template_rows": null,
            "height": null,
            "justify_content": null,
            "justify_items": null,
            "left": null,
            "margin": null,
            "max_height": null,
            "max_width": null,
            "min_height": null,
            "min_width": null,
            "object_fit": null,
            "object_position": null,
            "order": null,
            "overflow": null,
            "overflow_x": null,
            "overflow_y": null,
            "padding": null,
            "right": null,
            "top": null,
            "visibility": null,
            "width": null
          }
        },
        "223a13aa0e814892945f135e6bd7c30e": {
          "model_module": "@jupyter-widgets/controls",
          "model_name": "ProgressStyleModel",
          "model_module_version": "1.5.0",
          "state": {
            "_model_module": "@jupyter-widgets/controls",
            "_model_module_version": "1.5.0",
            "_model_name": "ProgressStyleModel",
            "_view_count": null,
            "_view_module": "@jupyter-widgets/base",
            "_view_module_version": "1.2.0",
            "_view_name": "StyleView",
            "bar_color": null,
            "description_width": ""
          }
        },
        "5eec9daa47154970a3d13ad5b0e0d5dc": {
          "model_module": "@jupyter-widgets/base",
          "model_name": "LayoutModel",
          "model_module_version": "1.2.0",
          "state": {
            "_model_module": "@jupyter-widgets/base",
            "_model_module_version": "1.2.0",
            "_model_name": "LayoutModel",
            "_view_count": null,
            "_view_module": "@jupyter-widgets/base",
            "_view_module_version": "1.2.0",
            "_view_name": "LayoutView",
            "align_content": null,
            "align_items": null,
            "align_self": null,
            "border": null,
            "bottom": null,
            "display": null,
            "flex": null,
            "flex_flow": null,
            "grid_area": null,
            "grid_auto_columns": null,
            "grid_auto_flow": null,
            "grid_auto_rows": null,
            "grid_column": null,
            "grid_gap": null,
            "grid_row": null,
            "grid_template_areas": null,
            "grid_template_columns": null,
            "grid_template_rows": null,
            "height": null,
            "justify_content": null,
            "justify_items": null,
            "left": null,
            "margin": null,
            "max_height": null,
            "max_width": null,
            "min_height": null,
            "min_width": null,
            "object_fit": null,
            "object_position": null,
            "order": null,
            "overflow": null,
            "overflow_x": null,
            "overflow_y": null,
            "padding": null,
            "right": null,
            "top": null,
            "visibility": null,
            "width": null
          }
        },
        "55618a5b4a4c427e9daf9b8e83cc5b03": {
          "model_module": "@jupyter-widgets/controls",
          "model_name": "DescriptionStyleModel",
          "model_module_version": "1.5.0",
          "state": {
            "_model_module": "@jupyter-widgets/controls",
            "_model_module_version": "1.5.0",
            "_model_name": "DescriptionStyleModel",
            "_view_count": null,
            "_view_module": "@jupyter-widgets/base",
            "_view_module_version": "1.2.0",
            "_view_name": "StyleView",
            "description_width": ""
          }
        }
      }
    }
  },
  "cells": [
    {
      "cell_type": "code",
      "execution_count": 34,
      "metadata": {
        "id": "l8pkTDj5CdfE"
      },
      "outputs": [],
      "source": [
        "import os\n",
        "from PIL import Image\n",
        "import numpy as np\n",
        "\n",
        "import torch\n",
        "import torch.nn as nn\n",
        "from torch.utils.data import Dataset, IterableDataset\n",
        "from torch.utils.data import sampler\n",
        "import torchvision.transforms as transforms\n",
        "from torch.nn.utils.clip_grad import clip_grad_norm_\n",
        "from torch.utils.data import random_split\n",
        "\n",
        "from tqdm.notebook import trange, tqdm\n",
        "import matplotlib.pyplot as plt\n"
      ]
    },
    {
      "cell_type": "code",
      "source": [
        "!unzip /content/drive/MyDrive/ACV/data40000.zip -d /content/"
      ],
      "metadata": {
        "id": "1a5Ccgozbm58"
      },
      "execution_count": null,
      "outputs": []
    },
    {
      "cell_type": "code",
      "source": [
        "!unzip /content/drive/MyDrive/ACV/testdata.zip -d /content/\n",
        "!rm /content/testdata/.DS_Store"
      ],
      "metadata": {
        "id": "AD_2lxXcoUov"
      },
      "execution_count": null,
      "outputs": []
    },
    {
      "cell_type": "code",
      "source": [
        "!unzip /content/drive/MyDrive/ACV/fundata.zip -d /content/\n",
        "!rm /content/fundata/.DS_Store"
      ],
      "metadata": {
        "id": "n2XTqWnsURxK"
      },
      "execution_count": null,
      "outputs": []
    },
    {
      "cell_type": "code",
      "source": [
        "train_path = \"/content/out\"\n",
        "explore_path = \"/content/testdata\"\n",
        "fun_path = \"/content/fundata\"\n",
        "save_path = \"/content/checkpoints/my.ckpt\""
      ],
      "metadata": {
        "id": "e2ky0gjSmob-"
      },
      "execution_count": 48,
      "outputs": []
    },
    {
      "cell_type": "code",
      "source": [
        "alphabet = \"\"\"abcdefghijklmnopqrstuvwxyzABCDEFGHIJKLMNOPQRSTUVWXYZ0123456789 .$-',\"();#:!?+*/%\"\"\"\n",
        "out_classes = len(alphabet)"
      ],
      "metadata": {
        "id": "Md7ELp1v9QHK"
      },
      "execution_count": 49,
      "outputs": []
    },
    {
      "cell_type": "markdown",
      "source": [
        "# Utils"
      ],
      "metadata": {
        "id": "dp1nLBoER6k1"
      }
    },
    {
      "cell_type": "markdown",
      "source": [
        "I took the below class directly from https://github.com/meijieru/crnn.pytorch/blob/master/utils.py (Paper's pytorch implementation) with some modifications of my own.\n"
      ],
      "metadata": {
        "id": "DOqSiTxuqRji"
      }
    },
    {
      "cell_type": "code",
      "source": [
        "class Converter(object):\n",
        "    def __init__(self, alphabet):\n",
        "        self.alphabet = alphabet + '-'  # for `-1` index\n",
        "        self.dict = {}\n",
        "        for i, char in enumerate(alphabet):\n",
        "            self.dict[char] = i + 1\n",
        "        self.dict[''] = 0\n",
        "    def encode(self, text):\n",
        "        \"\"\"Support batch or single str.\n",
        "        Args:\n",
        "            text (str or list of str): texts to convert.\n",
        "        Returns:\n",
        "            torch.IntTensor [length_0 + length_1 + ... length_{n - 1}]: encoded texts.\n",
        "            torch.IntTensor [n]: length of each text.\n",
        "        \"\"\"\n",
        "        '''\n",
        "        if isinstance(text, str):\n",
        "            text = [\n",
        "                self.dict[char.lower() if self._ignore_case else char]\n",
        "                for char in text\n",
        "            ]\n",
        "            length = [len(text)]\n",
        "        elif isinstance(text, collections.Iterable):\n",
        "            length = [len(s) for s in text]\n",
        "            text = ''.join(text)\n",
        "            text, _ = self.encode(text)\n",
        "        return (torch.IntTensor(text), torch.IntTensor(length))\n",
        "        '''\n",
        "        length = []\n",
        "        result = []\n",
        "        for item in text:\n",
        "            length.append(len(item))\n",
        "            for char in item:\n",
        "                if char in self.dict:\n",
        "                    index = self.dict[char]\n",
        "                else:\n",
        "                    index = 0\n",
        "                result.append(index)\n",
        "\n",
        "        text = result\n",
        "        return (torch.IntTensor(text), torch.IntTensor(length))\n",
        "\n",
        "    def decode(self, t, length, raw=False):\n",
        "        \"\"\"Decode encoded texts back into strs.\n",
        "        Args:\n",
        "            torch.IntTensor [length_0 + length_1 + ... length_{n - 1}]: encoded texts.\n",
        "            torch.IntTensor [n]: length of each text.\n",
        "        Raises:\n",
        "            AssertionError: when the texts and its length does not match.\n",
        "        Returns:\n",
        "            text (str or list of str): texts to convert.\n",
        "        \"\"\"\n",
        "        if length.numel() == 1:\n",
        "            length = length[0]\n",
        "            if raw:\n",
        "                return ''.join([self.alphabet[i - 1] for i in t])\n",
        "            else:\n",
        "                char_list = []\n",
        "                for i in range(length):\n",
        "                    if t[i] != 0 and (not (i > 0 and t[i - 1] == t[i])):\n",
        "                        char_list.append(self.alphabet[t[i] - 1])\n",
        "                return ''.join(char_list)\n",
        "        else:\n",
        "            texts = []\n",
        "            index = 0\n",
        "            for i in range(length.numel()):\n",
        "                l = length[i]\n",
        "                texts.append(\n",
        "                    self.decode(t[index:index + l], torch.IntTensor([l]), raw=raw))\n",
        "                index += l\n",
        "            return texts"
      ],
      "metadata": {
        "id": "01kg6UrtvxU5"
      },
      "execution_count": 50,
      "outputs": []
    },
    {
      "cell_type": "markdown",
      "source": [
        "# Data"
      ],
      "metadata": {
        "id": "dxuDIV3XClZx"
      }
    },
    {
      "cell_type": "code",
      "source": [
        "class collator(object):\n",
        "    def __call__(self, batch):\n",
        "        # from dataset\n",
        "        w = [item['img'].shape[2] for item in batch]\n",
        "        idxs = [item['idx'] for item in batch]\n",
        "        \n",
        "        # batch, channel, height, width\n",
        "        imgs = torch.ones([len(batch), batch[0]['img'].shape[0], batch[0]['img'].shape[1], \n",
        "                           max(w)], dtype=torch.float32).cuda()\n",
        "\n",
        "        # assign\n",
        "        for i, v in enumerate(batch):\n",
        "              # data is not the same width\n",
        "              imgs[i, :, :, 0:v['img'].shape[2]] = v['img']\n",
        "        \n",
        "        labels = [item['label'] for item in batch]\n",
        "        item = {'img': imgs, 'idx':idxs, 'label': labels}\n",
        "  \n",
        "        return item"
      ],
      "metadata": {
        "id": "Bl0GdtGfAOeq"
      },
      "execution_count": 51,
      "outputs": []
    },
    {
      "cell_type": "code",
      "source": [
        "class myDataset(Dataset):\n",
        "  def __init__(self, path):\n",
        "      super(myDataset, self).__init__()\n",
        "      # parent dic\n",
        "      self.path = path\n",
        "\n",
        "      # all image paths\n",
        "      paths = os.listdir(self.path)\n",
        "\n",
        "      # num of images\n",
        "      self.nImages = len(paths)\n",
        "\n",
        "      # image full paths\n",
        "      self.paths = list(map(lambda x: os.path.join(self.path, x), paths))\n",
        "\n",
        "      # first grayscale\n",
        "      # then bring the range down from 255 to 1\n",
        "      self.transform = transforms.Compose([transforms.Grayscale(1),\n",
        "                          transforms.ToTensor(), \n",
        "                          transforms.Normalize(0.5, 0.5)])\n",
        "      \n",
        "  def __getitem__(self, index):\n",
        "      imagepath = self.paths[index]\n",
        "      imagefile = os.path.basename(imagepath)\n",
        "      img = Image.open(imagepath)\n",
        "      img = self.transform(img)\n",
        "      # make all imgs same height, required by model\n",
        "      t = transforms.Resize((32, img.shape[2]))\n",
        "      img = t(img)\n",
        "\n",
        "      item = {'img': img, 'idx':index}\n",
        "      item['label'] = imagefile.split('_')[0]\n",
        "      return item \n",
        "  \n",
        "  def __len__(self):\n",
        "      return self.nImages\n"
      ],
      "metadata": {
        "id": "2-HVYdXF_8CL"
      },
      "execution_count": 52,
      "outputs": []
    },
    {
      "cell_type": "code",
      "source": [
        "data = myDataset(train_path)\n",
        "data_train, data_test = random_split(data, [0.7, 0.3])\n",
        "len(data_train)\n"
      ],
      "metadata": {
        "id": "OGYbYztVFOQl",
        "colab": {
          "base_uri": "https://localhost:8080/"
        },
        "outputId": "92f1f046-6522-46d0-efe4-89d514ef0a63"
      },
      "execution_count": 53,
      "outputs": [
        {
          "output_type": "execute_result",
          "data": {
            "text/plain": [
              "28000"
            ]
          },
          "metadata": {},
          "execution_count": 53
        }
      ]
    },
    {
      "cell_type": "markdown",
      "source": [
        "# Model"
      ],
      "metadata": {
        "id": "ub8KCLIbIrRG"
      }
    },
    {
      "cell_type": "markdown",
      "source": [
        "Implmented base on Shi et al. paper"
      ],
      "metadata": {
        "id": "nmdckuWCGvHv"
      }
    },
    {
      "cell_type": "code",
      "source": [
        "class BLSTM(nn.Module):\n",
        "    def __init__(self, nIn, nHidden, nOut):\n",
        "        super(BLSTM, self).__init__()\n",
        "        \n",
        "        self.rnn = nn.LSTM(nIn, nHidden, bidirectional=True)\n",
        "        self.embedding = nn.Linear(nHidden * 2, nOut)\n",
        "\n",
        "    def forward(self, input):\n",
        "        self.rnn.flatten_parameters()\n",
        "        res, _ = self.rnn(input)\n",
        "        T, b, n = res.size()\n",
        "        # reshape the output to [T * b, num of classes] for hidden layer\n",
        "        inp = res.view(T * b, n)\n",
        "        output = self.embedding(inp)  \n",
        "        \n",
        "        #bring back the size \n",
        "        output = output.view(T, b, -1)\n",
        "        return output\n",
        "\n",
        "class CRNN(nn.Module):\n",
        "\n",
        "    def __init__(self, out_classes):\n",
        "        super(CRNN, self).__init__()\n",
        "        cnn = nn.Sequential()\n",
        "\n",
        "        # 0\n",
        "        cnn.add_module('conv0', nn.Conv2d(1, 64, 3, 1, 1))\n",
        "        cnn.add_module('relu0', nn.ReLU(True))\n",
        "\n",
        "        cnn.add_module('pooling0', nn.MaxPool2d(2, 2))  \n",
        "\n",
        "        # 1\n",
        "        cnn.add_module('conv1', nn.Conv2d(64, 128, 3, 1, 1))\n",
        "        cnn.add_module('relu1', nn.ReLU(True))\n",
        "\n",
        "        cnn.add_module('pooling1', nn.MaxPool2d(2, 2))  \n",
        "        \n",
        "        #2 \n",
        "        cnn.add_module('conv2', nn.Conv2d(128, 256, 3, 1, 1))\n",
        "        cnn.add_module('batchnorm2', nn.BatchNorm2d(256))\n",
        "        cnn.add_module('relu2', nn.ReLU(True))\n",
        "\n",
        "        #3\n",
        "        cnn.add_module('conv3', nn.Conv2d(256, 256, 3, 1, 1))\n",
        "        cnn.add_module('relu3', nn.ReLU(True))\n",
        "\n",
        "        cnn.add_module('pooling3', nn.MaxPool2d((2, 2), (2, 1), (0, 1)))  \n",
        "        \n",
        "        #4\n",
        "        cnn.add_module('conv4', nn.Conv2d(256, 512, 3, 1, 1))\n",
        "        cnn.add_module('batchnorm4', nn.BatchNorm2d(512))\n",
        "        cnn.add_module('relu4', nn.ReLU(True))\n",
        "\n",
        "        #5\n",
        "        cnn.add_module('conv5', nn.Conv2d(512, 512, 3, 1, 1))\n",
        "        cnn.add_module('relu5', nn.ReLU(True))\n",
        "        cnn.add_module('pooling5', nn.MaxPool2d((2, 2), (2, 1), (0, 1)))  \n",
        "        \n",
        "        #6\n",
        "        cnn.add_module('conv6', nn.Conv2d(512, 512, 2, 1, 0))\n",
        "        cnn.add_module('batchnorm6', nn.BatchNorm2d(512))\n",
        "        cnn.add_module('relu6', nn.ReLU(True))\n",
        "\n",
        "        \n",
        "        self.cnn = cnn\n",
        "        self.rnn = nn.Sequential(\n",
        "            BLSTM(512, 256, 256),\n",
        "            BLSTM(256, 256, out_classes))\n",
        "\n",
        "\n",
        "    def forward(self, input):\n",
        "        # conv features\n",
        "        conv = self.cnn(input)\n",
        "        conv = conv.squeeze(2)\n",
        "        conv = conv.permute(2, 0, 1)  \n",
        "\n",
        "        # rnn features\n",
        "        output = self.rnn(conv)\n",
        "        output = output.transpose(1,0) \n",
        "\n",
        "        return output"
      ],
      "metadata": {
        "id": "15WfKnHtAVR1"
      },
      "execution_count": 54,
      "outputs": []
    },
    {
      "cell_type": "markdown",
      "source": [
        "# Training"
      ],
      "metadata": {
        "id": "Xg7gc5BMSm49"
      }
    },
    {
      "cell_type": "code",
      "source": [
        "model = CRNN(out_classes).cuda()\n",
        "criterion = torch.nn.CTCLoss(reduction='mean', zero_infinity=True)\n",
        "converter = Converter(alphabet)\n",
        "optimizer = torch.optim.Adam(model.parameters(), lr=0.001)\n",
        "epochs =8\n",
        "batch_size = 32\n",
        "# model"
      ],
      "metadata": {
        "id": "eewGUh7XqKUz"
      },
      "execution_count": 55,
      "outputs": []
    },
    {
      "cell_type": "code",
      "source": [
        "def forward(x):\n",
        "    # forward pass of the model\n",
        "    res = model(x)\n",
        "    return res.transpose(1, 0)\n",
        "\n",
        "def cal_loss(res, targets, pred_sizes, target_sizes):\n",
        "    # calculate loss\n",
        "    loss = criterion(res, targets, pred_sizes, target_sizes)\n",
        "    return loss\n",
        "\n",
        "def train_batch(batch):\n",
        "    inputs, targets = batch['img'], batch['label']\n",
        "    targets, target_size = converter.encode(targets)\n",
        "    res = forward(inputs)\n",
        "\n",
        "    # copy the data to cpu\n",
        "    res = res.contiguous().cpu()\n",
        "\n",
        "    # calculate probabbilities\n",
        "    res = torch.nn.functional.log_softmax(res, 2)\n",
        "    T, B, C = res.size()\n",
        "\n",
        "    res_size = torch.LongTensor([T for i in range(B)])\n",
        "\n",
        "    # also bring to cpu!\n",
        "    targets= targets.view(-1).contiguous()\n",
        "\n",
        "    loss = cal_loss(res, targets, res_size, target_size)\n",
        "    return loss\n",
        "\n",
        "\n",
        "def training_step(batch):\n",
        "    loss = train_batch(batch)\n",
        "    optimizer.zero_grad()\n",
        "    loss.backward()\n",
        "    # prevent gradient explode\n",
        "    clip_grad_norm_(model.parameters(), 0.05)\n",
        "    optimizer.step()\n",
        "    return abs(loss.item())"
      ],
      "metadata": {
        "id": "JRnXg7VkvDSq"
      },
      "execution_count": 42,
      "outputs": []
    },
    {
      "cell_type": "code",
      "source": [
        "losses = []\n",
        "# training loop\n",
        "for epoch in range(0, epochs):\n",
        "    pbar = None\n",
        "    loader = torch.utils.data.DataLoader(data_train,\n",
        "                batch_size=batch_size,\n",
        "                collate_fn=collator(),\n",
        "                shuffle=True)\n",
        "    pbar = tqdm(loader, leave=True, total= len(loader))\n",
        "    model.train()\n",
        "    outputs = []\n",
        "\n",
        "    for batch_nb, batch in enumerate(pbar):\n",
        "        loss = training_step(batch)\n",
        "        outputs.append(loss)\n",
        "\n",
        "    losses.extend(outputs)\n",
        "\n",
        "    train_result = np.mean(outputs)\n",
        "    print('epoch = {}, train_loss = {}'.format(epoch, train_result)) \n",
        "    print(\"saving checkpoint\")\n",
        "    torch.save(model.state_dict(), save_path)\n",
        "    "
      ],
      "metadata": {
        "id": "SiNxFfptr3tA"
      },
      "execution_count": null,
      "outputs": []
    },
    {
      "cell_type": "code",
      "source": [
        "plt.plot(losses)\n",
        "plt.xlabel(\"iterations\")\n",
        "plt.ylabel(\"CTC loss\")\n",
        "plt.title(\"loss change during training \")\n",
        "plt.show()\n"
      ],
      "metadata": {
        "id": "7R-8i5MAeGGJ"
      },
      "execution_count": null,
      "outputs": []
    },
    {
      "cell_type": "markdown",
      "source": [
        "# Test"
      ],
      "metadata": {
        "id": "FtSBAYClS8GE"
      }
    },
    {
      "cell_type": "code",
      "source": [
        "# load model\n",
        "model = CRNN(out_classes).cuda()\n",
        "model.load_state_dict(torch.load(save_path))\n",
        "model.eval()"
      ],
      "metadata": {
        "id": "KS05BqFwS-6V",
        "colab": {
          "base_uri": "https://localhost:8080/"
        },
        "outputId": "8aedffb8-4d7c-4cc6-cbaf-d395e685bed5"
      },
      "execution_count": 56,
      "outputs": [
        {
          "output_type": "execute_result",
          "data": {
            "text/plain": [
              "CRNN(\n",
              "  (cnn): Sequential(\n",
              "    (conv0): Conv2d(1, 64, kernel_size=(3, 3), stride=(1, 1), padding=(1, 1))\n",
              "    (relu0): ReLU(inplace=True)\n",
              "    (pooling0): MaxPool2d(kernel_size=2, stride=2, padding=0, dilation=1, ceil_mode=False)\n",
              "    (conv1): Conv2d(64, 128, kernel_size=(3, 3), stride=(1, 1), padding=(1, 1))\n",
              "    (relu1): ReLU(inplace=True)\n",
              "    (pooling1): MaxPool2d(kernel_size=2, stride=2, padding=0, dilation=1, ceil_mode=False)\n",
              "    (conv2): Conv2d(128, 256, kernel_size=(3, 3), stride=(1, 1), padding=(1, 1))\n",
              "    (batchnorm2): BatchNorm2d(256, eps=1e-05, momentum=0.1, affine=True, track_running_stats=True)\n",
              "    (relu2): ReLU(inplace=True)\n",
              "    (conv3): Conv2d(256, 256, kernel_size=(3, 3), stride=(1, 1), padding=(1, 1))\n",
              "    (relu3): ReLU(inplace=True)\n",
              "    (pooling3): MaxPool2d(kernel_size=(2, 2), stride=(2, 1), padding=(0, 1), dilation=1, ceil_mode=False)\n",
              "    (conv4): Conv2d(256, 512, kernel_size=(3, 3), stride=(1, 1), padding=(1, 1))\n",
              "    (batchnorm4): BatchNorm2d(512, eps=1e-05, momentum=0.1, affine=True, track_running_stats=True)\n",
              "    (relu4): ReLU(inplace=True)\n",
              "    (conv5): Conv2d(512, 512, kernel_size=(3, 3), stride=(1, 1), padding=(1, 1))\n",
              "    (relu5): ReLU(inplace=True)\n",
              "    (pooling5): MaxPool2d(kernel_size=(2, 2), stride=(2, 1), padding=(0, 1), dilation=1, ceil_mode=False)\n",
              "    (conv6): Conv2d(512, 512, kernel_size=(2, 2), stride=(1, 1))\n",
              "    (batchnorm6): BatchNorm2d(512, eps=1e-05, momentum=0.1, affine=True, track_running_stats=True)\n",
              "    (relu6): ReLU(inplace=True)\n",
              "  )\n",
              "  (rnn): Sequential(\n",
              "    (0): BLSTM(\n",
              "      (rnn): LSTM(512, 256, bidirectional=True)\n",
              "      (embedding): Linear(in_features=512, out_features=256, bias=True)\n",
              "    )\n",
              "    (1): BLSTM(\n",
              "      (rnn): LSTM(256, 256, bidirectional=True)\n",
              "      (embedding): Linear(in_features=512, out_features=80, bias=True)\n",
              "    )\n",
              "  )\n",
              ")"
            ]
          },
          "metadata": {},
          "execution_count": 56
        }
      ]
    },
    {
      "cell_type": "code",
      "source": [
        "def diff(labels, preds):\n",
        "    # return char accuracy and word accuracy\n",
        "    i_total = len(preds)\n",
        "    i_correct = 0\n",
        "    c_total = 0\n",
        "    c_correct = 0\n",
        "    for a, b in zip(labels, preds):\n",
        "        c_total += len(a)\n",
        "        if a == b:\n",
        "          i_correct+=1\n",
        "          c_correct+= len(a)\n",
        "        else:\n",
        "          for x, y in zip(a, b):\n",
        "            if a == b:\n",
        "              c_correct+= 1\n",
        "\n",
        "    return c_correct/c_total, i_correct/i_total\n",
        "\n",
        "\n"
      ],
      "metadata": {
        "id": "zETpTpRavvHM"
      },
      "execution_count": 57,
      "outputs": []
    },
    {
      "cell_type": "code",
      "source": [
        "labels, preds = [], []\n",
        "\n",
        "# test dataloader\n",
        "loader = torch.utils.data.DataLoader(data_test,\n",
        "            batch_size=batch_size,\n",
        "            collate_fn=collator())\n",
        "\n",
        "\n",
        "for iteration, batch in enumerate(tqdm(loader)):\n",
        "        input, out = batch['img'].cuda(), batch['label']\n",
        "        labels.extend(out)\n",
        "\n",
        "        res = model(input).transpose(1, 0)\n",
        "        res = torch.nn.functional.log_softmax(res, 2)\n",
        "        res = res.contiguous().cpu()\n",
        "\n",
        "        T, B, H = res.size()\n",
        "        pred_sizes = torch.LongTensor([T for i in range(B)])\n",
        "        probs, pos = res.max(2)\n",
        "        pos = pos.transpose(1, 0).contiguous().view(-1)\n",
        "        sim_preds = converter.decode(pos.data, pred_sizes.data, raw=False)\n",
        "        preds.extend(sim_preds)"
      ],
      "metadata": {
        "colab": {
          "base_uri": "https://localhost:8080/",
          "height": 49,
          "referenced_widgets": [
            "64049ff683d343af858b14bd0fba58b6",
            "a46516ec2418434e889ffae9027f7cd1",
            "bbaaf1e1fcbe4783883b86b37e351c9e",
            "7fd038f7006a4f4990cd7b48384d3122",
            "ec7fd26729114066bba9ef6c3bdbae30",
            "6f51a253764e4fa3be8a3edff3b551ad",
            "c071818fc86340aba68b91a69ebab67d",
            "c891124d5f7a47a8a6ec1fdbef293eb3",
            "68efc5cb5abc4d8eba209d7b55e8f111",
            "14844fa387174c0289f4721d55d7c8e2",
            "13599921f3244b9ca72a5a61578400d3"
          ]
        },
        "id": "wkxKIi6LhCkk",
        "outputId": "5d99b35e-4db2-46d3-866f-3442f8bff208"
      },
      "execution_count": 58,
      "outputs": [
        {
          "output_type": "display_data",
          "data": {
            "text/plain": [
              "  0%|          | 0/375 [00:00<?, ?it/s]"
            ],
            "application/vnd.jupyter.widget-view+json": {
              "version_major": 2,
              "version_minor": 0,
              "model_id": "64049ff683d343af858b14bd0fba58b6"
            }
          },
          "metadata": {}
        }
      ]
    },
    {
      "cell_type": "code",
      "source": [
        "# test accuracy \n",
        "c_acc, i_acc = diff(labels, preds)\n",
        "print(\"Test\\nchar accuracy: {} \\nimage accuracy {}\\n\".format(c_acc, i_acc))"
      ],
      "metadata": {
        "colab": {
          "base_uri": "https://localhost:8080/"
        },
        "id": "sjvkZfDYwXy5",
        "outputId": "ccf23f43-f595-4d81-c493-c65c22d93c1b"
      },
      "execution_count": 60,
      "outputs": [
        {
          "output_type": "stream",
          "name": "stdout",
          "text": [
            "Test\n",
            "char accuracy: 0.9537520676256317 \n",
            "image accuracy 0.9519166666666666\n",
            "\n"
          ]
        }
      ]
    },
    {
      "cell_type": "code",
      "source": [
        "fig=plt.figure(figsize=(8, 15))\n",
        "count = 5\n",
        "for i in range(1, count +1):\n",
        "    img = data_test[i][\"img\"].squeeze()\n",
        "    fig.add_subplot(count, 1, i)\n",
        "    plt.title(preds[i])\n",
        "    plt.imshow(img, cmap='gray')\n",
        "plt.show()"
      ],
      "metadata": {
        "colab": {
          "base_uri": "https://localhost:8080/",
          "height": 752
        },
        "id": "WtcDm28zjXdY",
        "outputId": "72b61125-9ab0-4155-931d-fd8d1dc7a0d9"
      },
      "execution_count": 115,
      "outputs": [
        {
          "output_type": "display_data",
          "data": {
            "text/plain": [
              "<Figure size 576x1080 with 5 Axes>"
            ],
            "image/png": "[encoded data removed]"
          },
          "metadata": {
            "needs_background": "light"
          }
        }
      ]
    },
    {
      "cell_type": "markdown",
      "source": [
        "# Fun"
      ],
      "metadata": {
        "id": "vnf_6sT-VqT4"
      }
    },
    {
      "cell_type": "code",
      "source": [
        "data_fun = myDataset(explore_path)\n",
        "data_fun"
      ],
      "metadata": {
        "colab": {
          "base_uri": "https://localhost:8080/"
        },
        "id": "BVOeVHFKPl9B",
        "outputId": "4f44cd9f-02ba-48a1-9f06-2c3a954f0e37"
      },
      "execution_count": 20,
      "outputs": [
        {
          "output_type": "execute_result",
          "data": {
            "text/plain": [
              "<__main__.myDataset at 0x7f5567626340>"
            ]
          },
          "metadata": {},
          "execution_count": 20
        }
      ]
    },
    {
      "cell_type": "code",
      "source": [
        "labels, preds = [], []\n",
        "\n",
        "# validation dataloader\n",
        "loader = torch.utils.data.DataLoader(data_fun,\n",
        "            batch_size=batch_size,\n",
        "            collate_fn=collator())\n",
        "\n",
        "\n",
        "for iteration, batch in enumerate(tqdm(loader)):\n",
        "        input, out = batch['img'].cuda(), batch['label']\n",
        "        labels.extend(out)\n",
        "\n",
        "        res = model(input).transpose(1, 0)\n",
        "        res = torch.nn.functional.log_softmax(res, 2)\n",
        "        res = res.contiguous().cpu()\n",
        "\n",
        "        T, B, H = res.size()\n",
        "        pred_sizes = torch.LongTensor([T for i in range(B)])\n",
        "        probs, pos = res.max(2)\n",
        "        pos = pos.transpose(1, 0).contiguous().view(-1)\n",
        "        sim_preds = converter.decode(pos.data, pred_sizes.data, raw=False)\n",
        "        preds.extend(sim_preds)"
      ],
      "metadata": {
        "colab": {
          "base_uri": "https://localhost:8080/",
          "height": 49,
          "referenced_widgets": [
            "a39b5f5c44834103b7a714f4cafe1188",
            "653f637f8a7a41a896ec627d7f6c1aa5",
            "fce3f16e22354d048290e84a4465929f",
            "210dba9b365e43fab5c45c2e05f235aa",
            "f72465b4409d47109a53c0eb32b57db0",
            "e23f340762f847d58e420c3d1e1acf41",
            "1e8807118b42467cac93e2cab4dc1de4",
            "c7c2e09096ee4768a0fc9ce97448dac9",
            "1bd5674e6ed449b59f88aa89e821abe1",
            "bed85ea69d6d41a698568105b6e9b2ef",
            "3b38f6dc72954930a4feebd9535227a1"
          ]
        },
        "id": "-PxEn5cQP15D",
        "outputId": "4f91cfd4-8a75-4070-9a55-dc6fad400895"
      },
      "execution_count": 27,
      "outputs": [
        {
          "output_type": "display_data",
          "data": {
            "text/plain": [
              "  0%|          | 0/79 [00:00<?, ?it/s]"
            ],
            "application/vnd.jupyter.widget-view+json": {
              "version_major": 2,
              "version_minor": 0,
              "model_id": "a39b5f5c44834103b7a714f4cafe1188"
            }
          },
          "metadata": {}
        }
      ]
    },
    {
      "cell_type": "code",
      "source": [
        "# accuracy \n",
        "c_acc, i_acc = diff(labels, preds)\n",
        "print(\"Fun\\nchar accuracy: {} \\nimage accuracy {}\\n\".format(c_acc, i_acc))"
      ],
      "metadata": {
        "id": "dZ_HHwxaTHIw"
      },
      "execution_count": null,
      "outputs": []
    },
    {
      "cell_type": "code",
      "source": [
        "print(labels, preds)\n",
        "fig=plt.figure(figsize=(8, 15))\n",
        "count = 5\n",
        "for i in range(1, count +1):\n",
        "    img = data_fun[i][\"img\"].squeeze()\n",
        "    fig.add_subplot(count, 1, i)\n",
        "    print(i)\n",
        "    plt.title(preds[i])\n",
        "    plt.imshow(img, cmap='gray')\n",
        "plt.show()"
      ],
      "metadata": {
        "colab": {
          "base_uri": "https://localhost:8080/",
          "height": 964
        },
        "id": "jpRZGBZQTXEC",
        "outputId": "c0ae8bed-aa10-41da-ea0b-721d0daf36b2"
      },
      "execution_count": 29,
      "outputs": [
        {
          "output_type": "stream",
          "name": "stdout",
          "text": [
            "['boxing', 'jump', 'wizards', 'wizards', 'boxing', 'wizards', 'jump', 'the', 'quickly', 'the', 'five', 'boxing', 'quickly', 'wizards', 'boxing', 'five', 'wizards', 'jump', 'five', 'jump', 'wizards', 'wizards', 'wizards', 'boxing', 'quickly', 'quickly', 'the', 'jump', 'quickly', 'jump', 'five', 'the', 'the', 'the', 'jump', 'boxing', 'boxing', 'quickly', 'quickly', 'jump', 'wizards', 'wizards', 'boxing', 'the', 'five', 'the', 'boxing', 'jump', 'quickly', 'wizards', 'jump', 'boxing', 'jump', 'quickly', 'wizards', 'quickly', 'wizards', 'quickly', 'jump', 'five', 'quickly', 'boxing', 'quickly', 'boxing', 'wizards', 'jump', 'the', 'jump', 'jump', 'jump', 'jump', 'quickly', 'wizards', 'quickly', 'boxing', 'jump', 'quickly', 'the', 'quickly', 'five', 'jump', 'the', 'wizards', 'jump', 'wizards', 'five', 'quickly', 'the', 'jump', 'boxing', 'wizards', 'five', 'wizards', 'jump', 'jump', 'jump', 'wizards', 'five', 'quickly', 'five', 'wizards', 'wizards', 'jump', 'five', 'boxing', 'the', 'quickly', 'quickly', 'jump', 'the', 'the', 'the', 'quickly', 'the', 'jump', 'the', 'the', 'wizards', 'boxing', 'five', 'the', 'five', 'five', 'quickly', 'five', 'jump', 'jump', 'wizards', 'five', 'the', 'five', 'quickly', 'five', 'wizards', 'five', 'jump', 'boxing', 'wizards', 'wizards', 'wizards', 'wizards', 'jump', 'the', 'the', 'boxing', 'the', 'the', 'five', 'quickly', 'the', 'five', 'quickly', 'quickly', 'boxing', 'quickly', 'jump', 'boxing', 'the', 'the', 'quickly', 'jump', 'the', 'boxing', 'quickly', 'boxing', 'quickly', 'the', 'five', 'boxing', 'wizards', 'the', 'boxing', 'quickly', 'wizards', 'five', 'five', 'the', 'five', 'the', 'five', 'five', 'quickly', 'five', 'the', 'wizards', 'boxing', 'jump', 'the', 'jump', 'the', 'the', 'boxing', 'five', 'boxing', 'the', 'jump', 'quickly', 'five', 'jump', 'the', 'quickly', 'five', 'five', 'quickly', 'jump', 'boxing', 'five', 'the', 'the', 'the', 'boxing', 'jump', 'boxing', 'wizards', 'the', 'wizards', 'quickly', 'quickly', 'quickly', 'boxing', 'the', 'the', 'jump', 'quickly', 'wizards', 'wizards', 'wizards', 'quickly', 'five', 'five', 'jump', 'five', 'boxing', 'wizards', 'boxing', 'wizards', 'five', 'boxing', 'boxing', 'wizards', 'wizards', 'jump', 'the', 'five', 'quickly', 'the', 'five', 'quickly', 'wizards', 'boxing', 'five', 'five', 'quickly', 'five', 'the', 'boxing', 'quickly', 'the', 'boxing', 'quickly', 'wizards', 'five', 'the', 'wizards', 'jump', 'jump', 'quickly', 'jump', 'the', 'wizards', 'jump', 'five', 'quickly', 'quickly', 'boxing', 'five', 'boxing', 'the', 'jump', 'wizards', 'boxing', 'wizards', 'wizards', 'wizards', 'five', 'jump', 'boxing', 'quickly', 'quickly', 'five', 'boxing', 'quickly', 'wizards', 'quickly', 'wizards', 'jump', 'boxing', 'boxing', 'quickly', 'the', 'jump', 'the', 'boxing', 'the', 'the', 'boxing', 'the', 'boxing', 'boxing', 'boxing', 'five', 'boxing', 'the', 'jump', 'wizards', 'quickly', 'jump', 'wizards', 'boxing', 'boxing', 'five', 'boxing', 'wizards', 'boxing', 'the', 'the', 'quickly', 'jump', 'jump', 'the', 'jump', 'five', 'five', 'wizards', 'the', 'jump', 'five', 'quickly', 'jump', 'five', 'boxing', 'wizards', 'the', 'the', 'five', 'wizards', 'boxing', 'wizards', 'boxing', 'boxing', 'the', 'wizards', 'quickly', 'wizards', 'five', 'wizards', 'quickly', 'five', 'wizards', 'boxing', 'boxing', 'wizards', 'wizards', 'the', 'wizards', 'jump', 'jump', 'quickly', 'boxing', 'five', 'quickly', 'jump', 'the', 'the', 'five', 'jump', 'boxing', 'five', 'the', 'quickly', 'the', 'wizards', 'wizards', 'five', 'five', 'boxing', 'wizards', 'boxing', 'five', 'five', 'boxing', 'quickly', 'boxing', 'wizards', 'quickly', 'quickly', 'five', 'boxing', 'boxing', 'wizards', 'quickly', 'boxing', 'quickly', 'wizards', 'five', 'five', 'boxing', 'quickly', 'five', 'five', 'wizards', 'quickly', 'boxing', 'the', 'boxing', 'five', 'quickly', 'five', 'wizards', 'the', 'five', 'jump', 'quickly', 'the', 'jump', 'boxing', 'the', 'the', 'wizards', 'quickly', 'jump', 'the', 'five', 'quickly', 'five', 'quickly', 'jump', 'five', 'wizards', 'five', 'quickly', 'the', 'wizards', 'quickly', 'jump', 'quickly', 'wizards', 'five', 'quickly', 'boxing', 'wizards', 'five', 'quickly', 'quickly', 'five', 'jump', 'quickly', 'boxing', 'jump', 'the', 'quickly', 'boxing', 'boxing', 'the', 'five', 'boxing', 'boxing', 'jump', 'jump', 'wizards', 'five', 'jump', 'boxing', 'five', 'boxing', 'wizards', 'quickly', 'boxing', 'jump', 'the', 'jump', 'jump', 'quickly', 'five', 'wizards', 'wizards', 'boxing', 'wizards', 'quickly', 'jump', 'five', 'wizards', 'wizards', 'jump', 'the', 'boxing', 'wizards', 'wizards', 'boxing', 'wizards', 'boxing', 'quickly', 'jump', 'wizards', 'wizards', 'five', 'the', 'jump', 'five', 'five', 'quickly', 'quickly', 'five', 'boxing', 'the', 'wizards', 'jump', 'wizards', 'five', 'five', 'quickly', 'jump', 'jump', 'five', 'jump', 'wizards', 'boxing', 'quickly', 'wizards', 'quickly', 'jump', 'jump', 'boxing', 'five', 'jump', 'boxing', 'quickly', 'wizards', 'the', 'wizards', 'quickly', 'boxing', 'wizards', 'wizards', 'the', 'jump', 'quickly', 'jump', 'jump', 'five', 'quickly', 'quickly', 'wizards', 'wizards', 'jump', 'wizards', 'the', 'boxing', 'quickly', 'five', 'boxing', 'wizards', 'quickly', 'five', 'boxing', 'quickly', 'wizards', 'boxing', 'five', 'five', 'boxing', 'five', 'five', 'boxing', 'wizards', 'jump', 'boxing', 'jump', 'the', 'wizards', 'wizards', 'boxing', 'quickly', 'jump', 'quickly', 'wizards', 'boxing', 'jump', 'boxing', 'quickly', 'jump', 'quickly', 'quickly', 'the', 'wizards', 'boxing', 'boxing', 'wizards', 'jump', 'jump', 'quickly', 'quickly', 'boxing', 'jump', 'wizards', 'wizards', 'wizards', 'five', 'five', 'wizards', 'wizards', 'wizards', 'five', 'boxing', 'wizards', 'five', 'five', 'jump', 'jump', 'jump', 'the', 'wizards', 'the', 'boxing', 'quickly', 'jump', 'jump', 'wizards', 'boxing', 'quickly', 'jump', 'five', 'wizards', 'the', 'the', 'boxing', 'the', 'quickly', 'boxing', 'boxing', 'boxing', 'jump', 'quickly', 'jump', 'quickly', 'the', 'quickly', 'the', 'the', 'wizards', 'quickly', 'jump', 'quickly', 'jump', 'quickly', 'wizards', 'five', 'boxing', 'boxing', 'wizards', 'jump', 'boxing', 'jump', 'quickly', 'the', 'jump', 'the', 'quickly', 'boxing', 'the', 'boxing', 'five', 'boxing', 'wizards', 'boxing', 'boxing', 'five', 'the', 'boxing', 'five', 'wizards', 'five', 'wizards', 'five', 'boxing', 'jump', 'boxing', 'boxing', 'quickly', 'five', 'quickly', 'five', 'boxing', 'boxing', 'wizards', 'quickly', 'quickly', 'the', 'boxing', 'five', 'the', 'jump', 'quickly', 'quickly', 'quickly', 'jump', 'five', 'five', 'five', 'the', 'boxing', 'jump', 'quickly', 'wizards', 'five', 'wizards', 'boxing', 'boxing', 'boxing', 'the', 'boxing', 'the', 'quickly', 'five', 'jump', 'wizards', 'boxing', 'quickly', 'the', 'wizards', 'five', 'jump', 'wizards', 'the', 'the', 'quickly', 'wizards', 'five', 'jump', 'wizards', 'the', 'jump', 'wizards', 'wizards', 'wizards', 'quickly', 'wizards', 'jump', 'quickly', 'five', 'boxing', 'boxing', 'quickly', 'five', 'quickly', 'jump', 'five', 'boxing', 'wizards', 'the', 'jump', 'five', 'quickly', 'boxing', 'boxing', 'five', 'wizards', 'the', 'jump', 'the', 'five', 'jump', 'five', 'the', 'wizards', 'wizards', 'jump', 'jump', 'wizards', 'five', 'boxing', 'jump', 'wizards', 'the', 'five', 'boxing', 'the', 'wizards', 'wizards', 'the', 'quickly', 'wizards', 'five', 'jump', 'the', 'wizards', 'the', 'the', 'quickly', 'jump', 'quickly', 'wizards', 'five', 'boxing', 'quickly', 'jump', 'five', 'jump', 'jump', 'quickly', 'quickly', 'boxing', 'wizards', 'quickly', 'five', 'boxing', 'the', 'wizards', 'quickly', 'quickly', 'the', 'quickly', 'wizards', 'the', 'jump', 'the', 'five', 'five', 'boxing', 'the', 'five', 'boxing', 'wizards', 'jump', 'the', 'the', 'the', 'wizards', 'jump', 'wizards', 'wizards', 'boxing', 'quickly', 'the', 'wizards', 'wizards', 'jump', 'the', 'the', 'five', 'five', 'quickly', 'the', 'jump', 'boxing', 'the', 'wizards', 'quickly', 'wizards', 'jump', 'boxing', 'wizards', 'five', 'quickly', 'jump', 'the', 'quickly', 'the', 'wizards', 'wizards', 'quickly', 'jump', 'the', 'quickly', 'boxing', 'quickly', 'the', 'quickly', 'the', 'wizards', 'the', 'wizards', 'five', 'boxing', 'wizards', 'quickly', 'five', 'boxing', 'five', 'wizards', 'boxing', 'jump', 'the', 'boxing', 'quickly', 'jump', 'quickly', 'boxing', 'quickly', 'wizards', 'the', 'jump', 'wizards', 'boxing', 'jump', 'boxing', 'quickly', 'the', 'jump', 'jump', 'quickly', 'boxing', 'quickly', 'the', 'wizards', 'boxing', 'quickly', 'boxing', 'the', 'jump', 'the', 'quickly', 'the', 'five', 'quickly', 'wizards', 'boxing', 'boxing', 'boxing', 'five', 'jump', 'quickly', 'boxing', 'quickly', 'quickly', 'the', 'jump', 'five', 'the', 'the', 'wizards', 'jump', 'jump', 'five', 'jump', 'boxing', 'boxing', 'wizards', 'quickly', 'wizards', 'wizards', 'boxing', 'wizards', 'the', 'five', 'quickly', 'jump', 'wizards', 'five', 'wizards', 'the', 'boxing', 'the', 'wizards', 'wizards', 'boxing', 'the', 'jump', 'boxing', 'five', 'five', 'five', 'five', 'five', 'five', 'the', 'quickly', 'jump', 'jump', 'boxing', 'jump', 'jump', 'jump', 'quickly', 'the', 'wizards', 'five', 'wizards', 'jump', 'quickly', 'wizards', 'five', 'boxing', 'jump', 'five', 'jump', 'boxing', 'wizards', 'quickly', 'quickly', 'quickly', 'boxing', 'quickly', 'boxing', 'the', 'quickly', 'the', 'the', 'jump', 'boxing', 'wizards', 'quickly', 'jump', 'quickly', 'the', 'five', 'five', 'boxing', 'jump', 'the', 'five', 'quickly', 'five', 'quickly', 'quickly', 'boxing', 'boxing', 'jump', 'jump', 'five', 'quickly', 'five', 'wizards', 'jump', 'boxing', 'quickly', 'quickly', 'the', 'jump', 'the', 'jump', 'jump', 'boxing', 'jump', 'jump', 'wizards', 'the', 'quickly', 'boxing', 'five', 'the', 'the', 'five', 'jump', 'quickly', 'jump', 'the', 'the', 'the', 'the', 'wizards', 'quickly', 'the', 'the', 'boxing', 'quickly', 'jump', 'quickly', 'jump', 'quickly', 'boxing', 'boxing', 'the', 'jump', 'jump', 'five', 'wizards', 'boxing', 'quickly', 'boxing', 'jump', 'wizards', 'the', 'the', 'boxing', 'five', 'jump', 'jump', 'jump', 'wizards', 'wizards', 'the', 'the', 'jump', 'wizards', 'five', 'the', 'boxing', 'the', 'quickly', 'the', 'quickly', 'quickly', 'the', 'boxing', 'quickly', 'jump', 'quickly', 'quickly', 'boxing', 'wizards', 'boxing', 'jump', 'the', 'five', 'boxing', 'jump', 'quickly', 'quickly', 'quickly', 'the', 'wizards', 'quickly', 'jump', 'quickly', 'boxing', 'wizards', 'the', 'wizards', 'five', 'five', 'boxing', 'boxing', 'the', 'five', 'the', 'wizards', 'five', 'the', 'jump', 'quickly', 'jump', 'quickly', 'the', 'jump', 'five', 'the', 'quickly', 'wizards', 'five', 'quickly', 'five', 'wizards', 'jump', 'five', 'quickly', 'jump', 'quickly', 'five', 'the', 'boxing', 'quickly', 'wizards', 'jump', 'boxing', 'the', 'five', 'jump', 'boxing', 'boxing', 'boxing', 'jump', 'five', 'quickly', 'boxing', 'wizards', 'the', 'boxing', 'boxing', 'boxing', 'wizards', 'quickly', 'the', 'boxing', 'boxing', 'wizards', 'jump', 'jump', 'boxing', 'jump', 'five', 'five', 'jump', 'jump', 'five', 'the', 'wizards', 'boxing', 'wizards', 'quickly', 'jump', 'wizards', 'wizards', 'boxing', 'five', 'the', 'five', 'quickly', 'boxing', 'wizards', 'quickly', 'wizards', 'boxing', 'jump', 'wizards', 'five', 'jump', 'boxing', 'wizards', 'boxing', 'jump', 'wizards', 'quickly', 'jump', 'the', 'the', 'wizards', 'jump', 'wizards', 'the', 'five', 'quickly', 'jump', 'wizards', 'wizards', 'the', 'wizards', 'the', 'five', 'five', 'the', 'five', 'quickly', 'five', 'quickly', 'wizards', 'boxing', 'jump', 'five', 'the', 'five', 'quickly', 'five', 'boxing', 'jump', 'wizards', 'the', 'the', 'five', 'boxing', 'the', 'boxing', 'quickly', 'jump', 'wizards', 'the', 'boxing', 'five', 'the', 'jump', 'quickly', 'boxing', 'wizards', 'wizards', 'boxing', 'wizards', 'wizards', 'boxing', 'jump', 'quickly', 'five', 'the', 'boxing', 'boxing', 'five', 'jump', 'boxing', 'wizards', 'boxing', 'wizards', 'five', 'five', 'five', 'quickly', 'jump', 'jump', 'the', 'wizards', 'quickly', 'five', 'jump', 'boxing', 'quickly', 'jump', 'five', 'five', 'five', 'boxing', 'the', 'five', 'the', 'boxing', 'quickly', 'quickly', 'the', 'quickly', 'boxing', 'jump', 'jump', 'five', 'wizards', 'the', 'quickly', 'five', 'five', 'boxing', 'boxing', 'jump', 'jump', 'boxing', 'wizards', 'five', 'wizards', 'boxing', 'quickly', 'quickly', 'five', 'the', 'quickly', 'boxing', 'the', 'quickly', 'wizards', 'the', 'jump', 'wizards', 'quickly', 'quickly', 'five', 'jump', 'jump', 'boxing', 'five', 'quickly', 'wizards', 'wizards', 'quickly', 'five', 'the', 'boxing', 'wizards', 'boxing', 'boxing', 'five', 'wizards', 'the', 'jump', 'boxing', 'quickly', 'boxing', 'the', 'the', 'boxing', 'five', 'jump', 'wizards', 'boxing', 'jump', 'the', 'jump', 'five', 'wizards', 'quickly', 'five', 'the', 'quickly', 'quickly', 'quickly', 'quickly', 'wizards', 'the', 'boxing', 'five', 'the', 'jump', 'jump', 'quickly', 'the', 'five', 'quickly', 'the', 'five', 'wizards', 'five', 'quickly', 'five', 'the', 'jump', 'five', 'jump', 'wizards', 'boxing', 'quickly', 'wizards', 'boxing', 'five', 'wizards', 'boxing', 'jump', 'boxing', 'quickly', 'jump', 'quickly', 'boxing', 'jump', 'wizards', 'quickly', 'wizards', 'five', 'quickly', 'jump', 'jump', 'quickly', 'the', 'the', 'boxing', 'jump', 'boxing', 'five', 'boxing', 'jump', 'jump', 'jump', 'jump', 'five', 'quickly', 'the', 'wizards', 'quickly', 'boxing', 'wizards', 'five', 'quickly', 'jump', 'quickly', 'five', 'five', 'the', 'five', 'wizards', 'boxing', 'five', 'boxing', 'jump', 'the', 'quickly', 'boxing', 'wizards', 'the', 'jump', 'the', 'the', 'boxing', 'wizards', 'boxing', 'quickly', 'wizards', 'jump', 'quickly', 'five', 'quickly', 'wizards', 'wizards', 'quickly', 'jump', 'five', 'five', 'five', 'five', 'quickly', 'boxing', 'five', 'the', 'the', 'boxing', 'boxing', 'boxing', 'jump', 'the', 'jump', 'the', 'jump', 'quickly', 'boxing', 'wizards', 'quickly', 'wizards', 'five', 'five', 'quickly', 'the', 'five', 'the', 'jump', 'jump', 'wizards', 'quickly', 'wizards', 'boxing', 'boxing', 'five', 'the', 'boxing', 'the', 'the', 'wizards', 'jump', 'jump', 'the', 'quickly', 'quickly', 'quickly', 'five', 'the', 'wizards', 'quickly', 'the', 'boxing', 'jump', 'wizards', 'boxing', 'boxing', 'quickly', 'jump', 'quickly', 'quickly', 'five', 'the', 'the', 'quickly', 'the', 'boxing', 'wizards', 'wizards', 'boxing', 'wizards', 'wizards', 'quickly', 'boxing', 'quickly', 'five', 'the', 'five', 'boxing', 'boxing', 'boxing', 'jump', 'boxing', 'jump', 'quickly', 'quickly', 'boxing', 'jump', 'jump', 'boxing', 'the', 'quickly', 'the', 'quickly', 'wizards', 'boxing', 'five', 'the', 'quickly', 'boxing', 'wizards', 'five', 'the', 'five', 'jump', 'boxing', 'quickly', 'wizards', 'boxing', 'jump', 'boxing', 'wizards', 'five', 'wizards', 'five', 'quickly', 'wizards', 'quickly', 'boxing', 'quickly', 'five', 'five', 'wizards', 'jump', 'quickly', 'jump', 'boxing', 'jump', 'jump', 'jump', 'wizards', 'boxing', 'the', 'five', 'quickly', 'five', 'jump', 'quickly', 'five', 'the', 'boxing', 'boxing', 'jump', 'wizards', 'five', 'jump', 'the', 'jump', 'jump', 'quickly', 'boxing', 'quickly', 'jump', 'wizards', 'the', 'boxing', 'boxing', 'boxing', 'five', 'jump', 'five', 'boxing', 'wizards', 'quickly', 'quickly', 'wizards', 'wizards', 'jump', 'five', 'jump', 'boxing', 'quickly', 'jump', 'wizards', 'wizards', 'five', 'boxing', 'five', 'boxing', 'the', 'wizards', 'jump', 'boxing', 'five', 'the', 'quickly', 'boxing', 'wizards', 'five', 'quickly', 'the', 'quickly', 'quickly', 'boxing', 'five', 'wizards', 'boxing', 'jump', 'the', 'wizards', 'the', 'five', 'quickly', 'the', 'quickly', 'quickly', 'boxing', 'the', 'boxing', 'wizards', 'jump', 'quickly', 'the', 'boxing', 'five', 'wizards', 'quickly', 'the', 'jump', 'the', 'wizards', 'jump', 'quickly', 'jump', 'boxing', 'the', 'jump', 'wizards', 'five', 'five', 'wizards', 'five', 'quickly', 'quickly', 'jump', 'five', 'jump', 'quickly', 'five', 'the', 'jump', 'wizards', 'quickly', 'wizards', 'the', 'wizards', 'boxing', 'five', 'quickly', 'the', 'wizards', 'boxing', 'five', 'wizards', 'quickly', 'quickly', 'jump', 'jump', 'boxing', 'the', 'wizards', 'boxing', 'quickly', 'boxing', 'five', 'quickly', 'the', 'the', 'quickly', 'the', 'the', 'quickly', 'the', 'boxing', 'five', 'jump', 'five', 'boxing', 'five', 'wizards', 'quickly', 'quickly', 'the', 'wizards', 'the', 'five', 'five', 'jump', 'five', 'the', 'five', 'wizards', 'the', 'the', 'the', 'boxing', 'jump', 'the', 'jump', 'five', 'the', 'the', 'quickly', 'jump', 'wizards', 'quickly', 'five', 'boxing', 'quickly', 'five', 'jump', 'jump', 'quickly', 'wizards', 'the', 'jump', 'the', 'the', 'the', 'the', 'the', 'boxing', 'boxing', 'jump', 'the', 'quickly', 'quickly', 'wizards', 'five', 'jump', 'jump', 'quickly', 'jump', 'quickly', 'boxing', 'wizards', 'jump', 'wizards', 'five', 'quickly', 'the', 'boxing', 'the', 'quickly', 'five', 'quickly', 'wizards', 'boxing', 'quickly', 'quickly', 'wizards', 'quickly', 'jump', 'the', 'boxing', 'boxing', 'boxing', 'five', 'jump', 'five', 'quickly', 'five', 'quickly', 'jump', 'wizards', 'five', 'the', 'the', 'jump', 'jump', 'wizards', 'the', 'quickly', 'five', 'the', 'five', 'quickly', 'five', 'wizards', 'five', 'wizards', 'boxing', 'quickly', 'quickly', 'five', 'boxing', 'jump', 'five', 'wizards', 'boxing', 'wizards', 'the', 'the', 'boxing', 'quickly', 'jump', 'jump', 'quickly', 'jump', 'the', 'five', 'wizards', 'wizards', 'wizards', 'boxing', 'jump', 'the', 'five', 'wizards', 'wizards', 'quickly', 'boxing', 'quickly', 'five', 'the', 'boxing', 'five', 'the', 'five', 'five', 'the', 'quickly', 'five', 'the', 'five', 'the', 'jump', 'five', 'quickly', 'quickly', 'jump', 'jump', 'quickly', 'boxing', 'jump', 'quickly', 'quickly', 'five', 'boxing', 'quickly', 'the', 'quickly', 'five', 'jump', 'the', 'wizards', 'five', 'jump', 'the', 'wizards', 'the', 'five', 'wizards', 'boxing', 'boxing', 'five', 'wizards', 'wizards', 'jump', 'five', 'the', 'five', 'the', 'jump', 'five', 'the', 'five', 'five', 'boxing', 'jump', 'boxing', 'quickly', 'jump', 'quickly', 'boxing', 'quickly', 'jump', 'five', 'wizards', 'five', 'quickly', 'quickly', 'five', 'jump', 'jump', 'the', 'quickly', 'jump', 'the', 'wizards', 'five', 'wizards', 'quickly', 'wizards', 'jump', 'jump', 'jump', 'quickly', 'quickly', 'jump', 'jump', 'the', 'wizards', 'five', 'the', 'wizards', 'the', 'jump', 'quickly', 'five', 'wizards', 'boxing', 'boxing', 'jump', 'five', 'quickly', 'wizards', 'wizards', 'boxing', 'boxing', 'five', 'five', 'quickly', 'five', 'jump', 'jump', 'quickly', 'jump', 'wizards', 'the', 'wizards', 'boxing', 'wizards', 'boxing', 'the', 'wizards', 'five', 'boxing', 'wizards', 'the', 'boxing', 'quickly', 'quickly', 'quickly', 'boxing', 'boxing', 'boxing', 'jump', 'quickly', 'quickly', 'boxing', 'jump', 'wizards', 'quickly', 'jump', 'boxing', 'jump', 'wizards', 'wizards', 'wizards', 'quickly', 'quickly', 'five', 'quickly', 'five', 'jump', 'quickly', 'boxing', 'boxing', 'the', 'quickly', 'wizards', 'the', 'boxing', 'five', 'five', 'the', 'five', 'wizards', 'wizards', 'boxing', 'five', 'jump', 'quickly', 'the', 'the', 'five', 'boxing', 'five', 'the', 'five', 'boxing', 'the', 'the', 'five', 'boxing', 'boxing', 'wizards', 'the', 'boxing', 'quickly', 'quickly', 'wizards', 'jump', 'boxing', 'five', 'the', 'jump', 'quickly', 'quickly', 'five', 'the', 'the', 'five', 'five', 'boxing', 'the', 'jump', 'jump', 'jump', 'wizards', 'boxing', 'boxing', 'jump', 'the', 'the', 'five', 'jump', 'five', 'five', 'wizards', 'jump', 'quickly', 'jump', 'wizards', 'jump', 'the', 'five', 'the', 'jump', 'jump', 'five', 'the', 'quickly', 'boxing', 'five', 'boxing', 'wizards', 'five', 'jump', 'jump', 'the', 'quickly', 'wizards', 'wizards', 'the', 'boxing', 'quickly', 'wizards', 'wizards', 'boxing', 'quickly', 'five', 'quickly', 'five', 'jump', 'boxing', 'quickly', 'the', 'the', 'the', 'wizards', 'boxing', 'boxing', 'wizards', 'boxing', 'quickly', 'boxing', 'five', 'five', 'wizards', 'five', 'quickly', 'five', 'five', 'jump', 'jump', 'the', 'jump', 'wizards', 'five', 'boxing', 'quickly', 'the', 'wizards', 'the', 'wizards', 'five', 'five', 'wizards', 'boxing', 'five', 'wizards', 'boxing', 'five', 'wizards', 'the', 'the', 'wizards', 'boxing', 'quickly', 'quickly', 'the', 'quickly', 'jump', 'quickly', 'the', 'boxing', 'boxing', 'five', 'quickly', 'wizards', 'jump', 'jump', 'the', 'five', 'quickly', 'wizards', 'boxing', 'wizards', 'jump', 'five', 'the', 'boxing', 'wizards', 'jump', 'boxing', 'quickly', 'wizards', 'quickly', 'jump', 'jump', 'boxing', 'the', 'five', 'the', 'jump', 'quickly', 'quickly', 'boxing', 'wizards', 'boxing', 'five', 'wizards', 'the', 'boxing', 'boxing', 'the', 'quickly', 'five', 'wizards', 'five', 'quickly', 'the', 'the', 'wizards', 'jump', 'jump', 'the', 'five', 'wizards', 'the', 'jump', 'wizards', 'wizards', 'the', 'jump', 'jump', 'wizards', 'boxing', 'the', 'boxing', 'wizards', 'jump', 'jump', 'wizards', 'boxing', 'five', 'quickly', 'jump', 'quickly', 'boxing', 'jump', 'boxing', 'jump', 'the', 'five', 'jump', 'boxing', 'wizards', 'wizards', 'quickly', 'jump', 'jump', 'jump', 'five', 'five', 'the', 'jump', 'quickly', 'five', 'wizards', 'quickly', 'boxing', 'the', 'jump', 'the', 'boxing', 'wizards', 'five', 'boxing', 'boxing', 'jump', 'boxing', 'boxing', 'boxing', 'quickly', 'jump', 'boxing', 'quickly', 'boxing', 'quickly', 'jump', 'quickly', 'the', 'boxing', 'the', 'the', 'five', 'boxing', 'the', 'wizards', 'jump', 'five', 'the', 'quickly', 'five', 'quickly', 'wizards', 'boxing', 'boxing', 'jump', 'boxing', 'the', 'quickly', 'jump', 'jump', 'jump', 'five', 'boxing', 'wizards', 'five', 'boxing', 'wizards', 'wizards', 'jump', 'boxing', 'wizards', 'quickly', 'jump', 'quickly', 'the', 'wizards', 'wizards', 'jump', 'the', 'boxing', 'jump', 'quickly', 'boxing', 'the', 'jump', 'jump', 'jump', 'boxing', 'five', 'boxing', 'boxing', 'five', 'the', 'five', 'the', 'five', 'jump', 'wizards', 'five', 'wizards', 'jump', 'quickly', 'jump', 'boxing', 'jump', 'boxing', 'wizards', 'quickly', 'jump', 'wizards', 'boxing', 'wizards', 'wizards', 'quickly', 'quickly', 'wizards', 'quickly', 'quickly', 'the', 'quickly', 'jump', 'quickly', 'the', 'boxing', 'wizards', 'the', 'five', 'wizards', 'quickly', 'boxing', 'the', 'wizards', 'jump', 'jump', 'the', 'the', 'five', 'jump', 'the', 'boxing', 'boxing', 'jump', 'boxing', 'quickly', 'wizards', 'quickly', 'quickly', 'the', 'five', 'jump', 'jump', 'quickly', 'boxing', 'boxing', 'quickly', 'jump', 'quickly', 'wizards', 'boxing', 'quickly', 'quickly', 'five', 'boxing', 'five', 'five', 'boxing', 'wizards', 'jump', 'five', 'quickly', 'jump', 'quickly', 'quickly', 'the', 'wizards', 'jump', 'the', 'wizards', 'wizards', 'jump', 'wizards', 'quickly', 'the', 'wizards', 'jump', 'jump', 'five', 'the', 'boxing', 'quickly', 'boxing', 'five', 'jump', 'wizards', 'wizards', 'jump', 'the', 'jump', 'five', 'jump', 'five', 'boxing', 'boxing', 'the', 'wizards', 'wizards', 'the', 'the', 'boxing', 'the', 'five', 'boxing', 'jump', 'wizards', 'boxing', 'jump', 'boxing', 'the', 'boxing', 'wizards', 'boxing', 'five', 'the', 'the', 'five', 'quickly', 'five', 'quickly', 'quickly', 'jump', 'jump'] ['AazlzkzC', 'Ixccql', 'eeeeecc', 'sixlsel', 'kazdpq', 'klgzl', 'ftt', 'Cqlaz', 'tieeec', 'Fic', 'ecsl', 'zeqdL', 'wlcklo', 'ttttt', 'lgqsc', 'TXF', '-casss', 'lciczk', 'Lsbive', 'skixrb', 'lsielzsll', 'scscse', 'xezce', 'jZcc', 'lausckla', 'kscbaa', 'ELqzl', 'IsCcs', 'ccccc', 'Ldispaba', 'kexs', 'lCke', 'Kkel', 'L-llae-', 'cpkL', 'ttttcs', 'gsscsg-l', 'Sleld', 'TCyz', 'A Jlioocb', 'klelzaddsl', 'xcsass', 'IttX', 'lal', 'lgebgcl', 'tcc', 'Sbeccbl', 'Akduwh', 'tcce', 'czaq', 'ksjlape', 'bczvgo', 'LLsL', 'bew-eekaq', 'nssgxci', 'Elkesaal', 'kvjaaxd', 'qjckix', 'Bxwp', ' fjwe', 'kseeel', 'Alezqsld', 'quic kiq', 'LS2cece', 'issxse', 'dmb', 'he', 'Bbgbzxxp', 'jupdl', 'sLsqesalb', 'jlbzab', '3Ajekcjtc', 'kgsgcd', 'FCeC', 'koxigo', 'jlae', 'fttef', 'llbL', 'Sce-d', 'llisbl', 'Adaszozr', 'CkzLi', 'ksijzc', 'Gkopkl', 'Clxzizzccl', 'EEveH', 'ACC', 'heL', 'Lazspl', 'aexskli', 'klbbbkcc', 'Ejacgll', 'ckeeeel', 'Lumr', 'dyikkres', 'Caxg-', 'ITC', 'tc', 'Baxesk', 'Ais-ss', 'dlyegxj', 'wlzezeak', 'HJaowb', 'Ll3cel', 'kegsrq', 'qhlL', 'Lavfckkla', 'SAisld', 'ecwob', 'CC', 'LAkeeL', 'kdls', 'b-Suicka', 'Lltbae', 'zczs', 'exkz', 'KCC', 'kibzzda', 'ttcce', 'xe', 'cbze', 'TC', 'Asve', 'lqwkicala', 'cc', 'E Cuooko', 'gszsxz', 'lieadg', 'Lcbnel', 'dlcl', 'BxwgL', 'bazeckob', 'bccl', 'sgsxtas', 'Zive-Le', 'lssxoqb', 'laxc ns', 'ixbxqaql', 'keerebe', 'Ascrkcae', 's asvteexz', 'Jclal', 'edhe-i', 'eecll', 'Lbaxtiiaz', 'kks', 'likzla', 'Alezel', 'qxilicrbg', 'CbeL', 'Lskek', 'lauickAy', 'ftct', 'Llazsal', 'setiscklia', 'bLdiazo', 'kzolkb-', 'CIeLl', 'KbL', 'Hkvckbq', 'axr', 'CaeL', 'ZCc', 'dAxuiieal', 'dbaxsm', 'lbilsecklua', 'LAhxel', 'bixzel', 'bozjmy', 'kbccc', 'Aslgss', 'ecscesl', 'bllcleo', 'wselgag', 'cteell', 'cblxell', 'Cke', 'tikl', 'Lelcel', 'Leexqe', 'cedell', 'aeceeez', 'jtiweL', 'TE', 'Ccece', 'Llsbxcka', 'aUixooko', 'Lthes', 'dGWrox', 'chp', 'CAel', 'sloaxibq', 'ICel', 'lgssc-l', 'Cheb', 'duump', 'Kcc', 'LAice', 'elzzp', 'dke', 'CeE', 'Bkel', 'Lcs', 'ttccecc', '3uoy', 'Llxxkbb', 'Fewell', 'sssl', 'tc', 'cAl', 'Azlzgh', ' sexwp', 'bbzzsirg', 'Iwieard', 'QheLl', 'CAikzhl', 'buicklg', 'Lalcscbbc', 'Ccecd', 'dxzksiyo', 'LAsL', 'dleell', 'Ldwx b', 'tCcce', 'slaezetq', 'laiaaxgxsl', 'Hksxzxds', 'lealieas', 'cs oeI', ' fwe', 'ddanobl', 'Cebc', 'sxskal', 'lwoegg', 'kzzsce', 'Asaebgge', 'FeeLe', 'bbCss', 'Szcda', 'ccxc', 'sxizxx', 'Axskl', 'ACe', ' Ajwes', 'blujickda', 'CacL', 'Fte', 'xeecx', 'dLlagexzl', 'bgzczbql', 'Esoe', ' sve', 'Swiieesck-l', 'diwell', 'Ahbll', 'kaxapd', 'ttCra', 'slll', 'NPfCff', 'dla-kvckbo', 'ceeal', 'jxell', 'alxll', 'busaecgrazd', 'xbapI', 'Ikwx', 'Eiseck', 'Ls', 'kcke', 'kaseucy', 'Sywogb', 'Ffke', 'QAockd', 'bxallcka', 'pscbq', 'CCccs', 'Axkz', 'SbheL', 'Ldscxbs', 'scsbzsee', 'kaxioqq', 'xerr I', 'kklzeekd', 'qxkzeAax', 'LLess', 'Ukooz', 'kzxjizaql', 'Ikecklg', 'bvkjcalj', 'txeL', 'lax xxa', 'Aeceee', 'nvseac-Ae', 'cccc', 'eayAal', 'daLdupl', 'ttCc', 'beecina', 'Scs ced', 'ChbW', 'xke-', 'chca', 'Sbeerli', 'sczl', 'FXE-', 'bacsas', 'LAdleL', 'CtX', 'Hoazs-q', 'Lbsbbb', 'Kalel', 'dkzkcseb', 'Lzle', 'zscl', 'e', 'Iqllccad', 'csscczl', 'Lebbee', 'baxaas', 'bseeqq', 'Lrivel', 'zCccd', 'dktegc', 'Aszsssql', 'ICF', 'FCCf', 'elgxicklc', 'C', 'Qumab', '2LesL', 'xaazxzle', 'ISivbL', 'secel', 'ieecec', 'ixeL', 'Aolcb', 'sjxL', 'Hslces', 'sdwoak', 's-ke', 'extkl', 'wzzcde', 'ckll', 'lxsl', 'CC', 'tyC', 'sbeezb', 'Eckeece', 'Lkexiaql', 'kzxciz', 'dLdh', 'CCcccl', 'axnlckl', 'wseaecc', 'Rce', 'clxaikqxs', 'qucekg', 'TCcC', 'S wlgkas', ' kcsia', 'ksscctaqe', 'weba-ds', 'kebeez', 'ICC', 'Lzcebee', 'slgxuab', 'LlmbJ', 'ocec', 'csescb', 'sexeE', 'b-ieckayc', 'Lykozab', 'lCRbxl', 'Ahbw', 'CxueLl', 'sdspb', 'Lecglxc', 'tfe', 'skss', 'leqickla', 'sLckc', 'vaieakx', 'gxoizax', 'Aes', 't', 'ocxexzl', 'ktebbe', 'Kexiog', 'LseL', 'ltxel', 'Lzecnz', 'ibefebb', 'koztzgos', 'Lidzbgel', 'PFcf', 'kuscksx', 'Lbixe', 'kaxskde', 'exibg', 'Wszggqy', 'begxslccale', 'eexin dII', 'jckja', 'Icssgzeass', 'gccre', 'Lssl', 'kzexex', 'qlujckad', 'Hwee', 'Bwe', 'cce', 'Sxbckdll', 'bezjnb', 'Elhx', 'ibcscb', 'Lki-el', 'quickly', 'cxel', 'Irseevoe', 'Akbla', 'CaXsL', 'dLSiiooo', 'SAwaabckl', 'Lsel', 'dJnpzapl', 'kazcbd', 'LLes', 'Lckzlel', 'szlslls', 'Lewi-icla', 'LAkL', 'kAle', 'Liekel', 'ISkhecbbg', 'tttc', 'Bickdql', 'uwrxk', 'SzeL', 'b mjeapdle', 'CideL', 'lalxicki', 'css', 'Ljiex-q', 'ewuicksx', 'blsAp', 'aqvicrdl', 'kstskexpal', ' fxel', 'Sl-iclcd', 'bsqsrg', 'bikedel', 'sececls', 'Fvexlz', 'bvujiclzg', 'BikeL', 'ALjUAb', 'cleeeeccll', 'Lsbciqq', 'cxcx', 'Lll', 'elcxecqj', 'rec-de', 'lkzcecq', 'ssesl', 'lsixel', 'llxlxae', 'besviizg', 'ft', 'wzzp', 'wszacx', 'Llcel', 'bLcymp', 'laxsbgl', 'LeexeL', 'Iloaxixg', 'nzoszcxde', 'qsuiiskdj', 'PSzcq', 'b Jukb', 'Lcc', 'Ldc', 'qe-', 'egxjckj', 'ccsc', 'iescxs', 'kctouads', 'boxexs', 'Lgs', 'Aijcagg', 'dszegbz-', 'tCC', 'kigkew', 'wizzoel', 'xcc', 'CS', 'lbegxekg', 'iajbbzzacl', 'axzczxls', 'Sebbz', 'ksxelzss', 'Ice', 'Shiizbcky', 'sAxroe', 'Ll', 'acidgkakq', 'NSCC', 'qss', 'Lssczs', 'Aixes', 'LQtve', 'ISAveckax', 'vzeccce', 'ntcwel', 'kcsjpq', 'LLLe', 'iCcccc', 'apakL', 'xibagd', 'lfezel', 'kx-el', 'Lekkilckccs', 'tpttc', 'jcce', 'Qwe', 'gAxbll', 'ssbcccc', 'kzoxcitaE', 'qsxutick', 'lafboe', 'alcsks', 'Glxqbl', 'eezl', 'Asectz', 'AiixeA', 'kvpop', 'Lbxaxseql', 'Llagxksccbql', 'llgjexxs', 'cbblela', 'cccbecsbd', 'ce', 'ceard', 'L-bsoede', 'liieazed', 'Che', 'ddlssb', 'Cleecx', 's Jxoqr', 'bAyob', 'ttet', 'buicklyx', 'altsla', 'lljeysgl', 'aiCzlewwd', 'bUdsazakel', 'Vekbygl', 'Qdzzell', 'leccb', 'sesekz', 'ci', 'Lbbzscg', 'clcbssd', 'blcjce', 'LLiwe', 'keoxf-f E', 'ezeeec', 'lcctecucdds', 'kxioogl', 'seec', 'cxel', 'kbgesac', 'LSiseL', ' csleb', 'Aaxk', 'xqsj', 'cfowpl', 'bazxiab', 'ikleke', 'thb', 'Ikjeaal', 'eyagg', 'IZZefe', 'Baitees', 'Lk-ap', 'ak-ical', 'cizkxzkl', 'bexskl', 'S kapkl', 'bbeecd', 'Lklsxg', 'sljlzzakl', 'Idkxlcz', '3kiueckAal', 'BeL', 'cbscsb', 'bbxaqq', 'Lbbxibb', 'dkicbkad', 'frtt', 'sLdybb', 'bkkkecbc', 'kawlckdq', 'skcoscliesg', 'SsaozLl', 'dAvbeaqq', 'sgesd', 'zksaa', 'BiveLe', 'xecs', 'basbcrd', 'lviezads', 'lizarl', 'SedE', 'ICctq', 'keiezegx', 'Zeye', 'tett', 'buazzalal', 'sldlx-bs', 'cL', 'CCBeL', 'jXce', 'scbeLl', 'lgxexz', 'Cyeee', 'kccs', 'aaabl', 'xdsles-y', '2sesC', 'qkiesrgxs', 'lazagb', 'LkeL', 'kizexd', 'lckkesL', 'sllles', 'cc', 'bCL', 'Rulckxq', 'bgacqql', 'bcxccwz', 'Lklxbz', 'Cyth', 'DuxcsxA', 'kkall', 'kljscklg', 'Alxele', 'Lqkickox', 'ICC', 'clbbse', 'qlieazcd', 'bvuickly', 'scxc', 'altekxyl', 'Llwox-l', 'elscll', 'Lzsbyaslg', 'hyc', 'bgxsnb', 'zzcszlgl', 'elwajzzzz', 'l CBeeL', 'baxwzg', 'dylpar', 'bvjckds', 'bWkae', 'clkp2s', 'CCee', 'Lalllicblkl', 'kkbqlxq', 'Sdhl', 'kkeaccq', 'LC', 'Sbxikg-l', 'Lkssxc', 'bst-gl', 'kasiaal', 'El', 'CheLl', 'Ttttz', 'Qxre', 'kKrzzc', 'becesl', 'czl pcx', 'hcs', 'beazcscl', 'GAl', 'kssxskcc', 'kleqcxal', 'LkAyiyeg', 'Kaixes', 'qliecas', 'LSse', 'Llaxioqb', 'dbxibq', 'tef', 'ckleeed', 'kvca jek', 'skles', 'baocjrdl', 'kcel', 'Ckeel', 'ukkt', 'exislela', 'kesck', 'lHbseseb', 'Ldsxb', 'ecsl', 'deys', 'qLdixe', 'Lxet', 'sczczb', 'Lkpogko', 'Tfc', 'kisicd', 'CkeI', 'Llyxezsqs', 'lbacbq', 'lbxzqscb', 'bcb', ' AkeL', 'bcxjxe', 'Clkz', 'bjcxx', 'Slccxeb', 'sJdzoakL', 'Ikczzoxae', 'zrbzldg', 'lsssekls', 'Ccc', 'Ifezfc', 'WxbL', 'LJlP', 'slzcbeec', 'khz', 'ebelie', 'Eegesss', 'Esesc', 'Jtxel', 'slduxoole', 'Ikisaddg', 'tdeE', 'sJklpab', 'eeadel', 'lsizszdes', 'lgtzacl', 'a-lccaA', 'Ajiegegxg', 'iuwppLl', 'ciecshgl', 'Coe', 'Qsccq', 'boxioq', 'lxls', 'el', 'zouecklu', 'LozzbL', ' Ave', 'fttc', 'kcixszdz', '-heJ', 'Sakaaxp', 'ikell', 'IRLiecka', 'Lllsssazg', 'Lesxxb', 'aell', 'qlzeoxzzaxl', 'AAeL', 'aaklpqaL', 'Lqdll', 'LESCS', 'LL', 'kcxe', 'LLbx', 'axcccc', 'ccs', 'Jw mpLe', 'dLdab', 'aceczebal', 'ZF', 'lsxe-kgb', 'jaxbs', 'bbbssbl', 'ICF', 'ceL', 'ksaciaal', 'klkli', 'laseszzl', 'hzgezd', 'Cxbe', 'cckecc', 'IC', 'CxxeLl', 'tc', 'Kcthbel', 'IYCCc', 'cbsA', 'IheI', 'lxucklg', 'lzCcc', 'BSwscAdy', 'Cecpe', 'Lbalel', ' Cozlql', 'Sllcla', 'LsfisoukL', 'ICCC', ' Qump', 'fftt', 'BSvkickbal', 'lxvlcka', 'Lsxekal', 'xzanss', 'axc-sskdyl', 'BC', 'igxcczgk', 'qcl', 'atizegdgl', 'bcslse', 'dOcsvisky', 'dheJ', 'Ceek', 'aeesc', ' THe', 'eLjnpap', 'ers', 'LExe', 'Bcexl', 'Cc', ' cWL', 'hveL', 'Herlbdl', 'letc', 'Ljuobl', 'czc', 'Gyc', 'AweL', 'ksezc', 'dLjuaro', 'kkzxzezad', 'TT', 'lcecco', 'eeeecd', 'LlzkL', 'utgkxd', 'ceceecz', 'Lsccr', 'AS', 'kbL', 'rjvell', 'Ejixz-', 'akkssAeb', 'TCF', 'slLell', 'Lgqiqg', 'Lthe', 'txjzaode', 'bxkickx', 'TFf', 'xespl', 'koxiag', 'xpaozal', 'Lclxel', 'axkeckbyl', 'ipgbL', 'Ckxl', 'ggegeeg', 'qAze-b', 'Lsbazyj', 'Lzebbce', 'sssxxl', 'xrvz', 'diblel', 'Bcujcklq', 'leeez', 'Eeliicklo', 'CaeE', 'Evucsksh', 'HAkkkL', 'alllbpgh', 'Aee', 'kbczocls l', 'FE ve', 'Llescszs', 'Ikeeee', 'Aacxac', 'Kekkc', 'Azxllzg', 'AtiiseL', 'dkjkaeqy', 'kkax-iaq', 'bLcbxozze', 'Chel', 'baxcieql', 'Jaxjekl', 'lsxqzogq', 'akfjcka', 'kzeqaiqq', 'kqlekhd', 'ceebcsd', 'cEhclh', 'illsble', 'sslcescle', 'baxerql', 'Lurxp', 'Llggciaqd', 'lauscklq', 'dkeL', 'qx-lof', 'LxmP', 'Fkeckuyl', 'aac-kl', 'sb-sckl', 'Ecs', 'lujgedi', 'lskjaa', 'lglsedql', 'bsccb', 'Eqll', 'Ftcfff', 'tbeLl', 'Exeesl', 'CT', 'eeccc', 'lexccl', 'kLscscd', 'kaxjmq', 'Azzlzzll', 'lyxssyge', 'xxel', 'Lyumpe-', 'lllsle', 'Aczsizql', 'Lcxsisrxs', 'CkEeCd', 'lckleL', 'Cidcf', 'Eecl', 'Ckl', 'dke', 'kstezzzlels', 'ldjzopl', 'kzzzzbl', 'titell', 'lSxooapl', 'bexfig', 'kebzerx', 'Clbbzl', 'alicclz', 'hlxeezzd', 'clebsea', 'ksxsclj', 'jtttc', 'llell', 'bizel', 'rcecy', 'efec', 'dkigzard', 'Lixe', 'wueaxdg', 'cLhel', 'hbzesqd', 'ES', 'Cccececl', 'Wskxza', 'kzzdzgpl', 'tc', 'Llcdluzab', 'Zzicoe', 'LEives', 'Lscxbs', 'wel', 'Leewel', 'LCskl', 'CkLl', 'Lkzs', 'BbNxclklyb', 'bsjllzoak', 'cx', 'lkaaaclkq', 'Lcnok', 'juooapl', 'dCCCL', 'SicjckAj', 'TCC', 'qclbzdb', 'lbesb', 'xsizegadg', 'scaxx', 'ktikickix', 'lsesacc', 'Gjkce-', 'lexykl', 'cjt', 'tivele', 'JuxP', 'leaxxaa', 'LLielcy', 'ewbckd', 'aaxjkkd', 'Aeeecs', 'klazzsgd', 'eqvcekly', 'bsxsxel', 'LzzL', 'axssecbq', 'CbzA', 'kckel', 'Z', 'kaqsaal', 'egaodl', 'kv-ercg', 'sCa-b', 'dccl rcbg', 'Khb', 'Cakel', 'ssjivel', 'tPzzce', 'Alzlrl', 'cxrs', 'xlL', 'da-x', 'ceses', 'avkkldckb', 'evuicAcdlj', 'bgxmd', 'Llkaa', 'sldicizgb', 'Ea-o E', 'bixell', 'laljcll', 'selel', 'lWclqgl', 'azcdzll', 'baqxgl', 'ISczee e', 'akjcbd', 'ee', 'UlnrqbL', 'lzbes', 'jurp', 'lsllwbl', 'kzziag', 'zpl', 'dsr', 'bkzcbbcs', 'LCzl', 'bszeed', 'TFteP', 'Pwe', 'ksaesLe', 'lldkel', 'ceL', 'Z ohp', 'Lxzsssss', 'gcccel', 'Lae', 'KbeL', 'Alkl', 'dbsell', 'wsecxdes', 'AAwckf', 'LaaL', 'EkecLi', 'bcxi-s', 'seek', 'Ljakpl', 'Re', 'dL-xb', 'kickob', 'lsxsa-e', 'bzaipg', 'LCkls', 'azabl', 'uozl', 'Asxz', 'olkdizata', 'Lkxrlkz', 'bqv-jcksa', 'kgqioqca', 'Lilxs', 'AAjgarpcl', 'kka', 'bze', 'gsxxq', 'rec', 'GKsL', 'Lywzzbl', 'kc', 'Lxsaeclg', 'TF', 'Lchey', 'Bele', 'lvoobL', 'cljsbxaxb', 'ezs', 'eL', 'aagiaqsll', 'bcli', 'akistekzgyl', 'qlzele', 'axcc', 'gsl-lk', 'klall', 'Lcxjba', 'kesekl', 'AumapL', 'lessicaiz', 'HBvbaxdq', 'kaxlbeb', 'Ageacl', 'bazszeo', 'bAazqx', 'kxll', 'ceece', 'boxdg', 'IdxozpL', 'Lskk-icka', 'Aalliclra', 'EcsElc', 'dcll', 'ittff', 'Eujckdp', 'jupab', 'axjskiy', 'SbcoeL', 'slcclcqs', 'Ct', 'xetgaogd', 'Eivee', 'Lbiicel', 'bexng', 'Rebsa', 'ers', 'bccc-', 'dFe', 'v-kecczas', 'Lbeze-', 'C', 'clxxl', 'Scpisxcw', 'elsrs', 'clsckld', 'cCRel', 'Iaespgkl', 'Ckll', 'leli', 'awesknye', 'ccx', 'dtiqzl', 'lewjebc', 'Cki', 'keecee', 'bsuxlirel', 'Uxe', 'dlsekl', 'jlvopL', 'salecky', 'Ltidel', 'Llel', 'Lczxcz', 'bklichlb', 'xzacde', 'Llwaz', 'Asxzcxyol', 'dAdks', 'Lces', 'Lump', 'ssccc', 'bbeaaql', 'Lbazirq', 'eaab', 'cxel', 'IsVwckj', 'lssskbi', 'kieazac', 'Che', 'lkoozczc', 'Assccb', 'lawll', 'usaoqa', 'Sasckag', 'kkes', 'ecd', 'kbxjiabl', 'xxards', 'lee', 'fizpxo', 'VCCq', 'gxrpL', 'Axes', 'TCC', 'ctoql', 'Uxop', 'TCCC', 'LAabl', 'ilccorgxcde', 'zxsl', 'Asbsccg', 'kil-lkbol', 'aeeccc', 'k-zes', 'dZcfc', 'Lkbzoxibq', 'iye', 'esl', 'CtxeL', 'qoxnsqza', 'Bbcq', 'Iwigazde', 'a--lcac', 'Ciekzb', 'oazsoq', 'dszxz', 'Vtasdds-l', 'Bxe-Le', 'juabl', 'bezlobl', 'WLiexl', 'kcexsagl', 'c-fy', 'Lszescdge', 'Exiscks', 'EAaxzb', 'Lw', 'dAacll', 'jszseesle', 'Ldfixop', 'Wdetaax', 'cklel', 'ltecl', 'ttcp', 'lcz', 'lizelsa', 'ibzd', 'eescl', 'kizeaxk', '2l', 'clcl', 'lalkeL', 'LlkleL', 'LkeL', 'qlckq', 'LBlxbl', 'Hfeeed', 'ekexicskazed', 'lazzeyy', 'JAoe', 'CseLe', 'CAela', 'SxeLl', 'c-usckll', 'LveL', 'lssssgl', 'iC', 'sksieazdls', 'Lslhel', 'bsL', 'Zecslle', 'bezbzgl', 'LtkeL', 'sezcixo', 'sslesd', 'Ewckl', 'dvieard', 'ckeeL', 'klcceaql', 'tytc', 'LAsL', 'GSazpopo', 'xeeqe', 'zeygb', 'tcc', 'kxaqbazd', 'lozezc', 'wfzznas I', 'lacaxigl', 'sbebql', 'AazrL', 'qljckqy', 'tccele', 'Lx', 'bzxizgol', 'Jlezxias', 'JCwe', 'sdkwL', 'axobl', 'izaccle', 'kzzikg', 'Ansoseaxq', 'ckz', 'BZixeL', 'tct', 'alrcckzl', 'qloxeI', 'Uuoxkl', 'AleLl', 'alyebxod', 'Laxlkxb', 'EeweL', 'sgkkakl', 'bewj-yb', 'ccacccce', 'gkxt', 'wel', 'Aczscl', 'tjxeL', 'Eeceql', 'scee', 'eikb', 'oks-e', 'kgsial', 'Lcvkeckql', 'Ikess', 'Ae', 'ttiff', ' Zexsrx', 'jslabll', 's eupzk', 'txeL', 'cbeeeb', 'Axs', 'Iaxcckys', 'tjxi', 'LEwe', 'Hloaozzjbs', 'kzaxizql', 'iuzal', 'qikp', 'kszfrz', 'igazgs', 'Eexe', 'wzagc', 'koziebl', 'iccco', 'aliiciqsl', 'gyxel', 'ece', 'axsselgca', 'lssslk', 'Lh b', 'blickbyc', 'Wbkad', 'Ecce', 'jvppl', 'Pfrt', 'aeeeece', 'bvljckk', 'Lbcwes', 'Llxxel', 'dLqLkkb', 'Agzecy', 'Aiwell', 'HDx-ickaqe', 'dfc', 'xoeocz', 'akxielclll', 'kixeL', 'll', 'lazexjsq', 'ksieands', 'Lbastagl', 'ty', 'AAlcs', 'eelca', 'kb', ' Juuw r', 'AQzeq', 'ewadckl', 'Llbxsxa', 't-ee', 'Hs', 'dqzzebz', 'qxqll', 'sLslke', 'cicxxs', 'eCtf', 'izkcdb', 'tkkL', 'JilrP', 'Ixye', 'dkteazezd', 'Cxieke', 'Llxzl', 'AAbL', 'Keskcc', 'ccceeb', 'ewlzckca', 'axlsllsge', 'aasearqs', ' deL', 'lcxebgz', 'aAixes', 'bzll', 'e-fy', 'CJomh', 'iEcecefo', 'Cciee', 'AaxbL', 'keseer', 'kkel', 'EireL', 'Akojghtdg', 'lQcesl', 'Ftct', 'AiweL', 'LAks', 'qQqlcab', 'WEv', 'I elxzxzs', 'aeAs', 'Lccfbgl', 'ceeelc', 'Cslkkzs', 'kgxsggl', 'Akexe', 'kccecc', 'bazsjhbdb', 'egclsooe', 'Llbxquxg', 'bccceeklg', 'kkak', 'bcilela', 'Lyloaz-wg', 'scc', 'l-eexzxk', 'kvkekbq', 'kxbards', 'Aasbx', 'ausscxs', 'dpp', 'bgdomqlo', 'pttyo', 'AkI', 'Aee', 'Kbbxsas', 'Gaxbll', 'lebsstkk', 'RkeL', 'koofog', 'ClAzL', 'uzoakl', 'LGlmb', 'Jumarl', 'Zqc', 'eixseslcze', 'LLklel', 'wizlzzg', 'fFeeef', 'llaaxtsgy', 'Akxkeqkzj', 'dixes', 'leaclceckg', 'CVpxkbs', 'Lblsicslsaa', ' zveI', 'Ceve', ' Lla eL', 'sxeL', 'qziezbbdl', 'Lssgsz', 'Cexele', 'llesciqs', 'Lldscccc', 'LCRe', 'kA-aclb', ' bzzdpg', 'wibazda', 'Kckes', 'sdllab', 'TF', 'eL', 'Azzssgff-', 'egkzgb', 'lkezcekgl', 'b-assrbs', 'cltebazdbes', 'Gaoxl', 'bwkeceb', 'babsL', 'H-fffbe', 'asegkaql', 'wcglxgs', 'Ccecb', 'Cce', 'Lblel', 'dixele', 'Rvel', 'xel', 'Ebceceeeo', 'Lszaxy', 'Lces', 'deLi', 'CCF', 'koexizoq', 'Lexem', 'bexic', 'isgbll', 'Ahee', 'laac', 'Lkel', '3xxble', 'axickig', 'lexsk', 'hcbeebs', 'Ekeeeed', 'Ztt', 'Esxc', 'Ejxbla', 'bqliicb', 'AzC', 'LiybL', 'CCAbe', 'Cipogbl', 'cJaoabs', 'gsgegds', 'lgjeaac', 'cebieids', 'keejab', 'Adzlezteo', '-ei', 'ctlzgl', 'kgzxaab', 'IEleL', 'LalH', 'Wiz-eqs', 'LwmpL', 'Gwzabll', 'dlelg', 'zeqzy', 'lqcksklzj', 'abvklkkb', 'Szs', 'ka', 'kicxadg', 'Leqaecbl', 'kke', 'Kkesaks', 'sLkoggo', 'Lczbxag', 'bezcg', 'kzxiab', 'busljckns', 'g Jwmtk', 'kqvlcka', 'ieksceea', 'ICF', 'Lagll', 'beLl', 'quickd', 'kbel', 'Kzcbg', 'ssszsqs', 'asbabal', 'bexsqb', 'cizarcdsl', 'hcttce', 'Ieolcsexxl', 'loaozjxa', 'Issdeek', 'kszl', 'qbzeL', 'LSxeL', 'bsxsq', 'itrcc', 'Lkzaxa', 'xesl', 'kzeq-', 'jwpabL', 'lsiefk', 'exlsxisaqj', 'llgxcag', 'kdwwapl', 'clllel', 'ececb', 'kee', 'RCsxcwo', 'Qne', 'eccccfe', 'vviaaxdlg', 'bsssslel', 'qLeL', 'dbes', 'alkiickgcl', 'ICte', 'skizarh', 'xceL', 'kc', 'Lixwel', 'LxsccxsL', 'bozsmee', 'axisjekd', 'kszasgcls', 'kcxska', 'kzxbl', 'bccec', 'wtzax', 'lFweL', 'lezessl', 'Ci', 'kiciickkl', 'kicpqsd', 'lsieebss', 'Ccce', 'Lsli-iaaa', 'lFfvel', 'tgCf', 'wwiessdl', 'cAzzgbLl', 'Aseesk', 'Sseq', 'bbzlxzl', 'lGuop', 'Ldlaaae', 'uwbE', 'ueeczgx', 'lbezciog', 'Laes', 'Cxs', 'qi-ickAa', 'eli', 'Jlkp', 'Ks', 'Lexel', 'xaee', 'kae-pgl', 'kxsccall', 'qjuwp', 'i-eeead', 'Slwel', 'LexoxdbL', 'sAele', 'dJkpzr', 'cwmp', 'ajkeckd', 'qeessc', 'CCk', 'sJxxgb', 'Hieazdxl', 'IJhe', 'kozcskaql', 'Bbgesb', 'Lkaxanc', 'ctgqbL', 'Llno z', 'Ecsxzl', 'krcecl', 'lslxgg', 'SWcxsx', 'Aseekz', 'k-kccfzoolq', 'iaesaoc', 'jilab', 'dLEexel', 'jlskzal', 'Lbzse', 'knwicnbz', 'scxrL', 'Asieazess', 'kaddzozo', 'gccg', 'kaxidql', 'LSiqbl', 'bozzpba', 'Akxl', 'ftt', 'sLjuzf', 'ecere', 'qjvee', 'ecc', 'Auierga', 'isssxx', 'Aszlll', 'Lixb', 'Iqxclekk', 'hb', 'lksecllyo', 'bkleqlas', 'Lkxcss', 'xye', 'gslald', 'Sbcecl', 'du m P', 'ALk', 'jeagds', 'CQS', 'qxcs', 'exsslsll', 'Aasi', 'Icycceedd', 'aAieacse', 'bccccge', 'CkeL', 'LAogcgg', 'kccebeee', 'ldsccol', 'Lkwicaqy', 'lAklsL', 'dbbzxzex', 'ICE', 'vibb-tc', 'autxax', 'CFk', 'klukzsk', 'tke', 'scgcclgs', 'lsbcc', 'Lpkiblg', 'dumb', 'leecsbla', 'dbxs', 'Llykszzcl', 'ekxljzatd', 'Jkel', 'ive', 'lxecyd', 'AkcsL', 'acc', 'ECes', 'suxoeb', '3SAtes', 'uabl', 'fctct', 'lxxlel', 'aei', 'xlaarnk', 'lkeeazc', 'axkxjeckd', 'Lsesx', 'LeL', 'gzwfzaxze', 'BBegczo', 'excL', 'alzckiy', 'Ctes', 'CCccee', 'kaxcjac', 'LyeVSc', 'xzjzaxdls', 'bbisccere', 'ewWcsl', 'LAkvtr', 'ylrwy', 'RQxiw', 'sAsl', 'Aoeesbs', 'sred i', 'ckceg', 'bgztdg', 'ZbxeL', 'baesely', 'Qecl', 'dxli', 'lqqlircatisz', 'tlze', 'Losc', 'S-sbbj', 'Qs', 'Zagxsxal', 'AsssL', 'k-Juaae', 'csjxc-', 'lsaztobl', 'kSxxes', ' lxearl', 'IXct', 'sSccljera', 'zkel', 'kigac-k', 'EIFC', 'Abcl', 'Feve', 'ddAooabL', 'bixe', 'Ike', 'tiwe', 'zebecz', 'RcCt', 'AApL', 'dhz', 'Lexepe', 'ksscs', 'CEkzl', 'ywozb', 'otivb a', 'LEL', 'dhcLE', 'laxssiexc', 'duwb', 'Wwezzl', 'bCicka', 'Cjgbl', 'Ecssisb', 'yijieklz', 'seslel', 'dwxxa', 'cukpL', 'dEixccey', 'kiis-exss', 'chc', 'Ldawb', ' AeL', 'Ae', 'bkeb', 'SsSL', 'AheLe', 'kzzc-oeg', 'bzzcialb', 'sEurbs', 'IkleA', 'qzalcldol', 'saxjclscs', 'kliealclbl', 'Ilews', 'sQuxc', 'i', 'awicklls', 'k cjewmp', 'ttfcct', 'Ikexsnjl', 'Ececeeec', 'gLWusb', 'ueaodzx', 'XCte', 'Sic eckcb', 'keL', 'bexass', 'Chcle', 'Abkisjceda', 'SC-eL', 'ccc', 'fffee', 'Aecsss', 'Lbvjaeck', 'creeet', 'ixxkbzxg', 'levsksck-', 'dsz', 'AaaeL', 'QPxjpg', 'kearc', 'Lkaxxb', 'Lcxes', 'tctc', 'AxeLl', 'Rsecs', 'alzq', 'lexslsba', 'dLwop', 'kseees', 'LxweW', 'Llhael', 'Akes', 'Llaqbs', 'Ksxy', 'xszgod', 'LASL', 'bsscxAx', 'Eiybll', 'Ehe', 'ive', 'alxaac', 'EiweL', 'lsecoe', 'alsesec', 'xwbqaxd', 'Lkeocec', 'Hbllisa-yol', 'Akilkeckl', 'fce', 'azqxixb', 'qx', 'TCFC', 'fftf', 'bacskql', 'wszex', 'slslcclel', 'thee', 'beccbcq', 'Iweckax', 'JApEL', 'qcc', 'qweekdc', 'Loc', 'tleL', 'divb', 'Ikxecbe', 'lafcaqda', 'cccezl', 'baxkl', 'sdlpbl', 'dblxle', 'Sk- I', 'LCbexle', 'Lviczaaas', 'Lavssjicka', 'kexiilg', 'sxllelaal', 'Scelle', 'lzbse', 'Aaaxixs', 'cotxe', 'ac', 'cac', 'CDbaxl', 'LAkel', 'wjcek', 'lccsl', 'eLi', 'Lsscec', 'ciee', 'tc-f', 'FA', 'bu-ckx', 'Lkiuickdl', 'L-xob', 'ycopa', 'CT', 'ceqdnq', 'dscz', 'sbseeebss', 'zebl', 'CCL', 'kzzeczl', 'Hxclcbad', 'Lkbls', 'kwckdo', 'L-zxc', 'lsAkel', 'Ekbsl', 'kcgseg', 'eccell', 'Aape', 'CCec', 'ebeees', 'kls', 'xixel', 'ksbrc', 'lgxskge', 'ce', 'Lliies', 'hjgzkk', 'lieggxg', 'ksbl', 'ZskI', 'be', 'Esvcl', 'TF', 'lyckl', 'Re', 'tkel', 'tC', 'Lfcwe', 'bsceaqql', 'JxmP', 'Lssxe', 'Laxcxcexl', 'yjuppL', 'kxcxrsg', 'tCet', 'sxibes', 'AWmpl', '3ixel', 'nwigzd', 'kiwes', 'f-t', 'kllickl', 'fZCt', 'ccx', 'xcx', 'tble', 'TFtfd', 'kzabl', 'klze', 'sizzazzq', 'bastel', 'kizarxl', 'ssaceldbo', 'Nipazd', 'Lbcc', 'LLwel', 'cAwoqp', 'Ic-ekdd', 'HeEL', 'gxlgacc', 'ckzzcc', 'HQecs', 'Aeeee', 'Qaszell', 'sasl', 'beofzzkl', 'CT', 'lurpL', 'byxecka', 'el', 'xizax', 'zexrq', 'kzxszgol', 'kciskeacc', 'xcvee', 'Icft', 'zzaxa', 'xjjebydd', 'kboeoq', 'kseax', 'ives', 'uivel', 'bwiuvckdo', 'Peve', 'dsbxb', 'tassze', 'a-axkdl', 'feccs', 'plvtecxcde', 'CC', 'kssbzods', 'kxztozg', 'Lssszee', 'Ikazika', 'DCcC', 'wxabxsl', 'lBxszel', 'baclgb', 'sgacjq', 'IAeL', 'bbjng-', 'altcral', 'Skcileldh', 'tvtcc', 'IPzt', 'boxiaq', 'Lbaxixe', 'Uvoab', 'HRecbka', ' E-ccebl', 'Kloxrc', 'Urxh', 'kcessz', 'Esissy', 'Lo-b', 'Lebalalb', 'sjuqabal', 'sddieazdl', 'TF', 'sSqksy', 'Lvuickrlg', 'eccc', 'Sjve', 'Lditclga', 'Likel', 'juw Z', 'buzcklyl', 'sexzsmq', 'Lcccc', 'Scsl', 'ececeg', 'e-sesxas', 'deke', 'lcaxirg', 'Ltyxel', 'Aybel', 'ce', 'CjixeL', 'skkk', 'exzxhd', 'Lsszlqb', 'Jzce', 'Lazqas', 'laA-chq', 'dEeL', 'cell', 'xixel', 'Abgbxsaq', 'Lewe', 'Axk', 'PPjcE', 'Lzoztegl', 'dllell', 'AleLl', 'tf', 'baqabq', 'Lbs-Xae', 'ksaezazel', 'Agli', 'Absckc', 'bkecacd', 'qisciscbx', 'Labxde', 'bsxel', 'kazergl', 'Cxxec', 'ctke', 'c-bb', 'ISsekl', 'ailicka', 'I-xe', 'tczgll', 'LLtfe', 'LCece', 'Zexel', 'sbclcbl', 'F', 'Jumbl', 'Sjkkaaes', 'dlsd A mE', 'dwaizsxiqq', 'bacwc', 'ggxikg', 'ascczl', 'CDeLl', 'CheLl', 'LCvz', 'JumbL', 'Lfxvel', 'kdxz', 'Ackbq', 'LAkzookel', 'axlcgca', 'KjaopL', 'sceqzsz', 'Ccc', 'Ccss', 'Lssscs', 'qel', 'sbsrz', 'Ssapapb', 'Abksi', 'Lthe', 'kwlelcl', 'Akeziz', 'CccsL', 'kaxskq', 'w izexse', 'tc', 'Lwxxs', 'Clkal', 'HAkeel', 'Essek', 'niezzal', 'zezecles', 'LtaeL', 'bexxg', 'gxseclcla', 'xqa', 'tf', 'baxxgl', 'qtlalcki', 'cives', 'lceeses', 'eiczl', 'Cupabs', 'kcizcl', 'lexksckdg', 'Lses', 'fell', 'cbele', 'xikab', 'lxcxq I', 'kzaxcikbb', 'cibcegdi', 'tte', 'ssllckjy', 'HIczbaccz', 'Rftkle', 'LtlzeL', 'Ikebexcee', 'Llvel', 'aceec', 'Lsexel', 'kicxe', 'qurp', 'ezall', 'eaH', 'ks', 'xlsxd', 'Cskel', 'Llzoziel', '2Qujekll', 'dlkx-', 'ckxzaozl', 'Lkl', 'Lseskl', 'AixesL', 'Lbsel', 'kleejsl', 'iqozcfey', 'cxes', 'scccccetl', 'lsxvele', 'tik', 'Llsceld', 'tC', 'Chz', 'Lcezox', 'bsscvae', '2cklisaga', 'ansckbl', 'Lke', 'LqsckAlz', 'LWb', 'gSvlsckl', 'AazL', 'kaszssoL', 'lbbxiaql', 'LEscbes', 'Fvcc', 'dIkiikaolcl', ' JurP', 'IcxC', 'qg', 'Cc', 'Lkececklr', 'csbccezl', 'bacxaxe', 'Lkecds', 'sJloob', 'Lcce', 'ccll', 'LggzooI', 'exssscds', 'eAlbxa', 'zcadl', 'lew-iicka', 'bxcbez', 'jcxceecc', 'Lunc', 'yjapabL', 'Lbaxiqs', 'lbeL', 'Sxzs', 'Lqb', 'sLAurxz', 'leislesc', 'owckl', 'lcccs', 'kizads', 'gjxll', 'LScwel', 'krxscjl', 'Laaz', 'bozeqql', 'kezjrto', 'ckcL', 'Lswcal', 'Iccel', 'axoadoqgbe', 'c evell', 'ckliickdo', 'Cel', 'cckc-', 'nlzxvds', 'enmxbll', 'Qaxxe-', 'ckkl', 'LEjweL', 'sLssks', 'CCf', 'Elpzk', 'kAjekecl', 'lszaal', 'lCheL', 'S Llskk', 'jxr-bl', 'lujgxek', 'kaxirS', 'cllell', 'boxlma', 'Zjf-', 'xjurabl', 'lqlqbl', 'Ikxzaddg', 'Lbxszbl', 'Gkell', 'zxscecckq', 'SAesakepe', 'SLAisskda', 'Lsyxq', 'Lkxwp', 'boocfet', 'sjlwpL', 'Lz', 'Lsssel', 'dgccs', 'lbxc-rd', '-xsezsavd', 'd wecaos', 'elbiccscbg', 'sGorsl', 'dwook', 'sxszabl', 'Ss', 'LkeL', 'dde-el', 'quAp', 'TYcX', 'xell', 'kabaasl', 'Sksrdl', 'lbzzes', '2eL', 'elcccc', 'Alel', 'bezerdl', 'izxas', 'dlll', 'lczeogl', 'kbkixaq', 'ec', 'cececgs', 'Extsczl', 'zsxsld', 'lse-eccg', 'ldszbl', 'lbsxxcq', 'Iaolslcc', 'scel', 'tyty', 'bLdlpbpl', 'jeeeeebe', 'dksll', 'kszzizbb', 'LEees', 'rsSL', 'xse', 'kzexsodgl', 'srss', 'kqliezqql', 'Idsz', 'LixeL', 'lkels', 'kceckb', 'Ccccl', 'ACseslel', 'kceccccz', 'kzeslbgbl', 'Aezczgl', 'sCf', 'Lcbc', 'sl', 'bllvcalo', 'upzeb', 'jupspL', 'Ljcwp', 'xaxss', 'ItCty', 'Llisksa', 'bel', 'kexlag', 'kigkzezxl', 'ICCJ', 'lxsxzs', 'kasscal', 'clbgedbl', 'kecbdl', 'leCSx w', 'lsckcag', 'RaleL', 'wojaabdg', 'kilbkxd', 'Nt', 'CCL', 'sbscizs', 'ixczzz', 'eijickzq', 'ICcC', 'cklkle', 'Sg Caap', 'scwooaz', 'ezblpobL', 'lgxjaal', 'BCkeL', 'bzzeke', 'Azzebzs', 'lcccc', 'Ldhe', 'Ltxel', 'Zb', 'xccll', 'zeecs', 'sssescsb', 'BixeLe', 'kkvskaxde', 'qulrb', 'kvickxa', 'Ldksab', 'Lklkciab', 'slll', 'bzzlzg-', 'lbceeezee', 'ey Vcckld', 'Istp', 's-ezegd', 'keq-cg', 'tttt', 'kseazdl', 'kslsba', 'ewjcrly', 'koizacds', 'Lsesesd', 'laxsyasjc', 'Sbbll', 'Lickcac', 'lSxxcc', 'ffce', 'Cke', 'Alsbzsss', 'vexkx', 'Ahel', 'Ldzcel', 'kzlfaksa', 'Leeec', 'Llzzkeg', 'KLbeL', 'slslsl', 'clkazapL', 'lel', 'Lbhes', 'IEL', 'gweli', 'eldccrgzs', 'LCle', 'Hbbqlqd', 'kask', 'ljlumeL', 'kaxbbq', 'Suecklq', 'ttft', 'Leixecklj', 'kllcl', 'XCSeLl', 'Sxv', 'SOuwt', 'rxzle', 'Abcseebe', 'bgxixoe', 'ttetx', 'Lakbxcec', 'Icassxxs', 'Lxwlsnck', 'widssd', 'Doxix-', 'BLlecklg', 'dqx-cckzl', 'xXes', 'bozcflgs', 'kiss', 'telzzs', 'lcsxaxe', 'Lezbc', 'jypPL', 'tce', 'JaAutekc', 'dJWxv', 'kwlsicr', 'awukcxja', 'Xbell', 'kaizsx', 'zcZ', 'Cccl', 'Laeebee', 'tttef', 'JwpoaALl', 'batek-', 'leceeeebo', 'lkkleL', 'ttC', 'ddsixs', 'LGvpdd', 'CCC', 'llaess', 'Lqc-ezql', 'bvstccc', 'beqdbd', 'kesl', 'Hsozxzr-', 'cakzso', 'HLizaad', 'effc', 'TYC', 'UWoP', 'SjxeL', 'kiupb', 'Flwe', 'laczsb', 'tctxe', ' teL', 'xzieed', 'scgbgse', '', 'dkeL', 'kazotzg I', 'LChes', 'Ldwel', 'kexirb', 'cjazabL', 'keeece', 'beceecl', 'LAvzzb', 'tPte', 'Cdhe', 'kezceb', 'sxs', 'cscl', 'LLkikel', 'LCz', 'z', 'ciwz', 'lqkkijickia', 'LixeL', 'LSscicrl', 'acxisklx', 'l', 'UAswp']\n",
            "1\n",
            "2\n",
            "3\n",
            "4\n",
            "5\n"
          ]
        },
        {
          "output_type": "display_data",
          "data": {
            "text/plain": [
              "<Figure size 576x1080 with 5 Axes>"
            ],
            "image/png": "[encoded data removed]"
          },
          "metadata": {
            "needs_background": "light"
          }
        }
      ]
    },
    {
      "cell_type": "code",
      "source": [
        "data_fun = myDataset(fun_path)\n",
        "data_fun"
      ],
      "metadata": {
        "colab": {
          "base_uri": "https://localhost:8080/"
        },
        "id": "uj-uwiB6Vgc2",
        "outputId": "21c91890-2bf3-4094-8e14-a16627fefbf5"
      },
      "execution_count": 31,
      "outputs": [
        {
          "output_type": "execute_result",
          "data": {
            "text/plain": [
              "<__main__.myDataset at 0x7f554e388e50>"
            ]
          },
          "metadata": {},
          "execution_count": 31
        }
      ]
    },
    {
      "cell_type": "code",
      "source": [
        "labels, preds = [], []\n",
        "\n",
        "# dataloader\n",
        "loader = torch.utils.data.DataLoader(data_fun,\n",
        "            batch_size=1,\n",
        "            collate_fn=collator())\n",
        "\n",
        "\n",
        "for iteration, batch in enumerate(tqdm(loader)):\n",
        "        input, out = batch['img'].cuda(), batch['label']\n",
        "        labels.extend(out)\n",
        "\n",
        "        res = model(input).transpose(1, 0)\n",
        "        res = torch.nn.functional.log_softmax(res, 2)\n",
        "        res = res.contiguous().cpu()\n",
        "\n",
        "        T, B, H = res.size()\n",
        "        pred_sizes = torch.LongTensor([T for i in range(B)])\n",
        "        probs, pos = res.max(2)\n",
        "        pos = pos.transpose(1, 0).contiguous().view(-1)\n",
        "        sim_preds = converter.decode(pos.data, pred_sizes.data, raw=False)\n",
        "        preds.extend(sim_preds)"
      ],
      "metadata": {
        "colab": {
          "base_uri": "https://localhost:8080/",
          "height": 49,
          "referenced_widgets": [
            "7ba2901cb7884397b011d09102f7c7b1",
            "eea899e33cab4fcf9d8fdfdb8e1aa258",
            "fedf6fce01274dfea5d080da31b00d6f",
            "062729118a27416aa27bdadae835de13",
            "766842214c224e63a5df21604faaeee0",
            "c0e04019f7d944adb3893c568b006bfd",
            "7c026d6ace244ba4aafdd176c6c522d8",
            "7985c3ccba634ba3b4d0321d25efbf61",
            "223a13aa0e814892945f135e6bd7c30e",
            "5eec9daa47154970a3d13ad5b0e0d5dc",
            "55618a5b4a4c427e9daf9b8e83cc5b03"
          ]
        },
        "id": "F5xLCWBEVwlw",
        "outputId": "d40b5f31-1a52-4f66-84fb-01bbcb0d60de"
      },
      "execution_count": 32,
      "outputs": [
        {
          "output_type": "display_data",
          "data": {
            "text/plain": [
              "  0%|          | 0/1 [00:00<?, ?it/s]"
            ],
            "application/vnd.jupyter.widget-view+json": {
              "version_major": 2,
              "version_minor": 0,
              "model_id": "7ba2901cb7884397b011d09102f7c7b1"
            }
          },
          "metadata": {}
        }
      ]
    },
    {
      "cell_type": "code",
      "source": [
        "fig=plt.figure(figsize=(8, 15))\n",
        "count = 1\n",
        "\n",
        "img = data_fun[0][\"img\"].squeeze()\n",
        "fig.add_subplot(count, 1, 1)\n",
        "plt.title(\"\".join(preds))\n",
        "plt.imshow(img, cmap='gray')\n",
        "plt.show()"
      ],
      "metadata": {
        "colab": {
          "base_uri": "https://localhost:8080/",
          "height": 138
        },
        "id": "7k7zBVmSV24P",
        "outputId": "fd1aa7da-1325-40dd-8c12-d4de0ae10b0c"
      },
      "execution_count": 38,
      "outputs": [
        {
          "output_type": "stream",
          "name": "stdout",
          "text": [
            "['DISTORTIVE BY THEIR NATURE.jpg'] ['o', 'i', 'o', 'r', 'o', 'z', 't', 'i', 'k', 't', ' ', 'b', 'y', ' ', 'i', 'h', 'e', 'i', 'r', ' ', 'h', 'p', 'i', 'k', 'e']\n"
          ]
        },
        {
          "output_type": "display_data",
          "data": {
            "text/plain": [
              "<Figure size 576x1080 with 1 Axes>"
            ],
            "image/png": "[encoded data removed]"
          },
          "metadata": {
            "needs_background": "light"
          }
        }
      ]
    }
  ]
}